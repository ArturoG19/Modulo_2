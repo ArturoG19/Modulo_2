{
 "cells": [
  {
   "cell_type": "markdown",
   "metadata": {},
   "source": [
    "# 1. Abrir el archivo de datos y leer la información general"
   ]
  },
  {
   "cell_type": "code",
   "execution_count": 14,
   "metadata": {},
   "outputs": [],
   "source": [
    "# Importar librerias \n",
    "import pandas as pd\n",
    "import numpy as np\n",
    "import matplotlib.pyplot as plt\n",
    "import seaborn as sns \n",
    "from scipy import stats as st\n",
    "import math as mth\n",
    "import scipy.stats as stats\n",
    "import plotly.express as px"
   ]
  },
  {
   "cell_type": "code",
   "execution_count": 15,
   "metadata": {},
   "outputs": [
    {
     "data": {
      "text/html": [
       "<div>\n",
       "<style scoped>\n",
       "    .dataframe tbody tr th:only-of-type {\n",
       "        vertical-align: middle;\n",
       "    }\n",
       "\n",
       "    .dataframe tbody tr th {\n",
       "        vertical-align: top;\n",
       "    }\n",
       "\n",
       "    .dataframe thead th {\n",
       "        text-align: right;\n",
       "    }\n",
       "</style>\n",
       "<table border=\"1\" class=\"dataframe\">\n",
       "  <thead>\n",
       "    <tr style=\"text-align: right;\">\n",
       "      <th></th>\n",
       "      <th>EventName</th>\n",
       "      <th>DeviceIDHash</th>\n",
       "      <th>EventTimestamp</th>\n",
       "      <th>ExpId</th>\n",
       "    </tr>\n",
       "  </thead>\n",
       "  <tbody>\n",
       "    <tr>\n",
       "      <th>0</th>\n",
       "      <td>MainScreenAppear</td>\n",
       "      <td>4575588528974610257</td>\n",
       "      <td>1564029816</td>\n",
       "      <td>246</td>\n",
       "    </tr>\n",
       "    <tr>\n",
       "      <th>1</th>\n",
       "      <td>MainScreenAppear</td>\n",
       "      <td>7416695313311560658</td>\n",
       "      <td>1564053102</td>\n",
       "      <td>246</td>\n",
       "    </tr>\n",
       "    <tr>\n",
       "      <th>2</th>\n",
       "      <td>PaymentScreenSuccessful</td>\n",
       "      <td>3518123091307005509</td>\n",
       "      <td>1564054127</td>\n",
       "      <td>248</td>\n",
       "    </tr>\n",
       "    <tr>\n",
       "      <th>3</th>\n",
       "      <td>CartScreenAppear</td>\n",
       "      <td>3518123091307005509</td>\n",
       "      <td>1564054127</td>\n",
       "      <td>248</td>\n",
       "    </tr>\n",
       "    <tr>\n",
       "      <th>4</th>\n",
       "      <td>PaymentScreenSuccessful</td>\n",
       "      <td>6217807653094995999</td>\n",
       "      <td>1564055322</td>\n",
       "      <td>248</td>\n",
       "    </tr>\n",
       "  </tbody>\n",
       "</table>\n",
       "</div>"
      ],
      "text/plain": [
       "                 EventName         DeviceIDHash  EventTimestamp  ExpId\n",
       "0         MainScreenAppear  4575588528974610257      1564029816    246\n",
       "1         MainScreenAppear  7416695313311560658      1564053102    246\n",
       "2  PaymentScreenSuccessful  3518123091307005509      1564054127    248\n",
       "3         CartScreenAppear  3518123091307005509      1564054127    248\n",
       "4  PaymentScreenSuccessful  6217807653094995999      1564055322    248"
      ]
     },
     "metadata": {},
     "output_type": "display_data"
    },
    {
     "name": "stdout",
     "output_type": "stream",
     "text": [
      "<class 'pandas.core.frame.DataFrame'>\n",
      "RangeIndex: 244126 entries, 0 to 244125\n",
      "Data columns (total 4 columns):\n",
      " #   Column          Non-Null Count   Dtype \n",
      "---  ------          --------------   ----- \n",
      " 0   EventName       244126 non-null  object\n",
      " 1   DeviceIDHash    244126 non-null  int64 \n",
      " 2   EventTimestamp  244126 non-null  int64 \n",
      " 3   ExpId           244126 non-null  int64 \n",
      "dtypes: int64(3), object(1)\n",
      "memory usage: 7.5+ MB\n",
      "None\n"
     ]
    }
   ],
   "source": [
    "# Cargar el Dataset y mostrarlo\n",
    "logs = pd.read_csv('C:/Users/chino/Downloads/csvs_sprints/logs_exp_us.csv', sep=',')\n",
    "display(logs.head())\n",
    "print(logs.info())"
   ]
  },
  {
   "cell_type": "markdown",
   "metadata": {},
   "source": [
    "# 2 Preparar los datos para el análisis"
   ]
  },
  {
   "cell_type": "code",
   "execution_count": 16,
   "metadata": {},
   "outputs": [],
   "source": [
    "# Cambiar nombre de las columnas\n",
    "logs.columns = ['event_name', 'device_id_hash', 'event_timestamp', 'expld']"
   ]
  },
  {
   "cell_type": "code",
   "execution_count": 17,
   "metadata": {},
   "outputs": [
    {
     "name": "stdout",
     "output_type": "stream",
     "text": [
      "event_name         0\n",
      "device_id_hash     0\n",
      "event_timestamp    0\n",
      "expld              0\n",
      "dtype: int64\n",
      "\n",
      "413\n"
     ]
    }
   ],
   "source": [
    "# Comprobar valores nulos\n",
    "print(logs.isnull().sum())\n",
    "print()\n",
    "#comprobar valores duplicados\n",
    "print(logs.duplicated().sum())"
   ]
  },
  {
   "cell_type": "code",
   "execution_count": 18,
   "metadata": {},
   "outputs": [
    {
     "name": "stdout",
     "output_type": "stream",
     "text": [
      "                     event_name       device_id_hash  event_timestamp  expld\n",
      "453            MainScreenAppear  5613408041324010552       1564474784    248\n",
      "2350           CartScreenAppear  1694940645335807244       1564609899    248\n",
      "3573           MainScreenAppear   434103746454591587       1564628377    248\n",
      "4076           MainScreenAppear  3761373764179762633       1564631266    247\n",
      "4803           MainScreenAppear  2835328739789306622       1564634641    248\n",
      "...                         ...                  ...              ...    ...\n",
      "242329         MainScreenAppear  8870358373313968633       1565206004    247\n",
      "242332  PaymentScreenSuccessful  4718002964983105693       1565206005    247\n",
      "242360  PaymentScreenSuccessful  2382591782303281935       1565206049    246\n",
      "242362         CartScreenAppear  2382591782303281935       1565206049    246\n",
      "242635         MainScreenAppear  4097782667445790512       1565206618    246\n",
      "\n",
      "[413 rows x 4 columns]\n"
     ]
    }
   ],
   "source": [
    "# Mostrar valores duplicados\n",
    "print(logs[logs.duplicated()])"
   ]
  },
  {
   "cell_type": "code",
   "execution_count": 19,
   "metadata": {},
   "outputs": [
    {
     "name": "stdout",
     "output_type": "stream",
     "text": [
      "0\n"
     ]
    }
   ],
   "source": [
    "# Eliminar valores duplicados conservando el primer valor\n",
    "logs = logs.drop_duplicates(keep='first')\n",
    "# Comprobar si se han eliminado los duplicados\n",
    "print(logs.duplicated().sum())"
   ]
  },
  {
   "cell_type": "code",
   "execution_count": 20,
   "metadata": {},
   "outputs": [],
   "source": [
    "# Convertir la columna event_timestamp a tipo datetime\n",
    "logs['event_timestamp'] = pd.to_datetime(logs['event_timestamp'], unit='s')"
   ]
  },
  {
   "cell_type": "code",
   "execution_count": 21,
   "metadata": {},
   "outputs": [
    {
     "name": "stdout",
     "output_type": "stream",
     "text": [
      "<class 'pandas.core.frame.DataFrame'>\n",
      "Index: 243713 entries, 0 to 244125\n",
      "Data columns (total 4 columns):\n",
      " #   Column           Non-Null Count   Dtype         \n",
      "---  ------           --------------   -----         \n",
      " 0   event_name       243713 non-null  object        \n",
      " 1   device_id_hash   243713 non-null  int64         \n",
      " 2   event_timestamp  243713 non-null  datetime64[ns]\n",
      " 3   expld            243713 non-null  int64         \n",
      "dtypes: datetime64[ns](1), int64(2), object(1)\n",
      "memory usage: 9.3+ MB\n",
      "None\n"
     ]
    },
    {
     "data": {
      "text/html": [
       "<div>\n",
       "<style scoped>\n",
       "    .dataframe tbody tr th:only-of-type {\n",
       "        vertical-align: middle;\n",
       "    }\n",
       "\n",
       "    .dataframe tbody tr th {\n",
       "        vertical-align: top;\n",
       "    }\n",
       "\n",
       "    .dataframe thead th {\n",
       "        text-align: right;\n",
       "    }\n",
       "</style>\n",
       "<table border=\"1\" class=\"dataframe\">\n",
       "  <thead>\n",
       "    <tr style=\"text-align: right;\">\n",
       "      <th></th>\n",
       "      <th>event_name</th>\n",
       "      <th>device_id_hash</th>\n",
       "      <th>event_timestamp</th>\n",
       "      <th>expld</th>\n",
       "    </tr>\n",
       "  </thead>\n",
       "  <tbody>\n",
       "    <tr>\n",
       "      <th>0</th>\n",
       "      <td>MainScreenAppear</td>\n",
       "      <td>4575588528974610257</td>\n",
       "      <td>2019-07-25 04:43:36</td>\n",
       "      <td>246</td>\n",
       "    </tr>\n",
       "    <tr>\n",
       "      <th>1</th>\n",
       "      <td>MainScreenAppear</td>\n",
       "      <td>7416695313311560658</td>\n",
       "      <td>2019-07-25 11:11:42</td>\n",
       "      <td>246</td>\n",
       "    </tr>\n",
       "    <tr>\n",
       "      <th>2</th>\n",
       "      <td>PaymentScreenSuccessful</td>\n",
       "      <td>3518123091307005509</td>\n",
       "      <td>2019-07-25 11:28:47</td>\n",
       "      <td>248</td>\n",
       "    </tr>\n",
       "    <tr>\n",
       "      <th>3</th>\n",
       "      <td>CartScreenAppear</td>\n",
       "      <td>3518123091307005509</td>\n",
       "      <td>2019-07-25 11:28:47</td>\n",
       "      <td>248</td>\n",
       "    </tr>\n",
       "    <tr>\n",
       "      <th>4</th>\n",
       "      <td>PaymentScreenSuccessful</td>\n",
       "      <td>6217807653094995999</td>\n",
       "      <td>2019-07-25 11:48:42</td>\n",
       "      <td>248</td>\n",
       "    </tr>\n",
       "  </tbody>\n",
       "</table>\n",
       "</div>"
      ],
      "text/plain": [
       "                event_name       device_id_hash     event_timestamp  expld\n",
       "0         MainScreenAppear  4575588528974610257 2019-07-25 04:43:36    246\n",
       "1         MainScreenAppear  7416695313311560658 2019-07-25 11:11:42    246\n",
       "2  PaymentScreenSuccessful  3518123091307005509 2019-07-25 11:28:47    248\n",
       "3         CartScreenAppear  3518123091307005509 2019-07-25 11:28:47    248\n",
       "4  PaymentScreenSuccessful  6217807653094995999 2019-07-25 11:48:42    248"
      ]
     },
     "metadata": {},
     "output_type": "display_data"
    }
   ],
   "source": [
    "# Mostrar los cambios\n",
    "print(logs.info())\n",
    "display(logs.head())"
   ]
  },
  {
   "cell_type": "code",
   "execution_count": 22,
   "metadata": {},
   "outputs": [],
   "source": [
    "# Agrega una columna con la fecha\n",
    "logs['date'] = logs['event_timestamp'].dt.date\n",
    "# Agrega una columna con la hora\n",
    "logs['time'] = logs['event_timestamp'].dt.time"
   ]
  },
  {
   "cell_type": "code",
   "execution_count": 23,
   "metadata": {},
   "outputs": [
    {
     "data": {
      "text/html": [
       "<div>\n",
       "<style scoped>\n",
       "    .dataframe tbody tr th:only-of-type {\n",
       "        vertical-align: middle;\n",
       "    }\n",
       "\n",
       "    .dataframe tbody tr th {\n",
       "        vertical-align: top;\n",
       "    }\n",
       "\n",
       "    .dataframe thead th {\n",
       "        text-align: right;\n",
       "    }\n",
       "</style>\n",
       "<table border=\"1\" class=\"dataframe\">\n",
       "  <thead>\n",
       "    <tr style=\"text-align: right;\">\n",
       "      <th></th>\n",
       "      <th>event_name</th>\n",
       "      <th>device_id_hash</th>\n",
       "      <th>event_timestamp</th>\n",
       "      <th>expld</th>\n",
       "      <th>date</th>\n",
       "      <th>time</th>\n",
       "    </tr>\n",
       "  </thead>\n",
       "  <tbody>\n",
       "    <tr>\n",
       "      <th>0</th>\n",
       "      <td>MainScreenAppear</td>\n",
       "      <td>4575588528974610257</td>\n",
       "      <td>2019-07-25 04:43:36</td>\n",
       "      <td>246</td>\n",
       "      <td>2019-07-25</td>\n",
       "      <td>04:43:36</td>\n",
       "    </tr>\n",
       "    <tr>\n",
       "      <th>1</th>\n",
       "      <td>MainScreenAppear</td>\n",
       "      <td>7416695313311560658</td>\n",
       "      <td>2019-07-25 11:11:42</td>\n",
       "      <td>246</td>\n",
       "      <td>2019-07-25</td>\n",
       "      <td>11:11:42</td>\n",
       "    </tr>\n",
       "    <tr>\n",
       "      <th>2</th>\n",
       "      <td>PaymentScreenSuccessful</td>\n",
       "      <td>3518123091307005509</td>\n",
       "      <td>2019-07-25 11:28:47</td>\n",
       "      <td>248</td>\n",
       "      <td>2019-07-25</td>\n",
       "      <td>11:28:47</td>\n",
       "    </tr>\n",
       "    <tr>\n",
       "      <th>3</th>\n",
       "      <td>CartScreenAppear</td>\n",
       "      <td>3518123091307005509</td>\n",
       "      <td>2019-07-25 11:28:47</td>\n",
       "      <td>248</td>\n",
       "      <td>2019-07-25</td>\n",
       "      <td>11:28:47</td>\n",
       "    </tr>\n",
       "    <tr>\n",
       "      <th>4</th>\n",
       "      <td>PaymentScreenSuccessful</td>\n",
       "      <td>6217807653094995999</td>\n",
       "      <td>2019-07-25 11:48:42</td>\n",
       "      <td>248</td>\n",
       "      <td>2019-07-25</td>\n",
       "      <td>11:48:42</td>\n",
       "    </tr>\n",
       "    <tr>\n",
       "      <th>5</th>\n",
       "      <td>CartScreenAppear</td>\n",
       "      <td>6217807653094995999</td>\n",
       "      <td>2019-07-25 11:48:43</td>\n",
       "      <td>248</td>\n",
       "      <td>2019-07-25</td>\n",
       "      <td>11:48:43</td>\n",
       "    </tr>\n",
       "    <tr>\n",
       "      <th>6</th>\n",
       "      <td>OffersScreenAppear</td>\n",
       "      <td>8351860793733343758</td>\n",
       "      <td>2019-07-25 14:50:42</td>\n",
       "      <td>246</td>\n",
       "      <td>2019-07-25</td>\n",
       "      <td>14:50:42</td>\n",
       "    </tr>\n",
       "    <tr>\n",
       "      <th>7</th>\n",
       "      <td>MainScreenAppear</td>\n",
       "      <td>5682100281902512875</td>\n",
       "      <td>2019-07-25 20:14:37</td>\n",
       "      <td>246</td>\n",
       "      <td>2019-07-25</td>\n",
       "      <td>20:14:37</td>\n",
       "    </tr>\n",
       "    <tr>\n",
       "      <th>8</th>\n",
       "      <td>MainScreenAppear</td>\n",
       "      <td>1850981295691852772</td>\n",
       "      <td>2019-07-25 20:31:42</td>\n",
       "      <td>247</td>\n",
       "      <td>2019-07-25</td>\n",
       "      <td>20:31:42</td>\n",
       "    </tr>\n",
       "    <tr>\n",
       "      <th>9</th>\n",
       "      <td>MainScreenAppear</td>\n",
       "      <td>5407636962369102641</td>\n",
       "      <td>2019-07-26 03:35:12</td>\n",
       "      <td>246</td>\n",
       "      <td>2019-07-26</td>\n",
       "      <td>03:35:12</td>\n",
       "    </tr>\n",
       "  </tbody>\n",
       "</table>\n",
       "</div>"
      ],
      "text/plain": [
       "                event_name       device_id_hash     event_timestamp  expld  \\\n",
       "0         MainScreenAppear  4575588528974610257 2019-07-25 04:43:36    246   \n",
       "1         MainScreenAppear  7416695313311560658 2019-07-25 11:11:42    246   \n",
       "2  PaymentScreenSuccessful  3518123091307005509 2019-07-25 11:28:47    248   \n",
       "3         CartScreenAppear  3518123091307005509 2019-07-25 11:28:47    248   \n",
       "4  PaymentScreenSuccessful  6217807653094995999 2019-07-25 11:48:42    248   \n",
       "5         CartScreenAppear  6217807653094995999 2019-07-25 11:48:43    248   \n",
       "6       OffersScreenAppear  8351860793733343758 2019-07-25 14:50:42    246   \n",
       "7         MainScreenAppear  5682100281902512875 2019-07-25 20:14:37    246   \n",
       "8         MainScreenAppear  1850981295691852772 2019-07-25 20:31:42    247   \n",
       "9         MainScreenAppear  5407636962369102641 2019-07-26 03:35:12    246   \n",
       "\n",
       "         date      time  \n",
       "0  2019-07-25  04:43:36  \n",
       "1  2019-07-25  11:11:42  \n",
       "2  2019-07-25  11:28:47  \n",
       "3  2019-07-25  11:28:47  \n",
       "4  2019-07-25  11:48:42  \n",
       "5  2019-07-25  11:48:43  \n",
       "6  2019-07-25  14:50:42  \n",
       "7  2019-07-25  20:14:37  \n",
       "8  2019-07-25  20:31:42  \n",
       "9  2019-07-26  03:35:12  "
      ]
     },
     "metadata": {},
     "output_type": "display_data"
    }
   ],
   "source": [
    "display(logs.head(10))\n"
   ]
  },
  {
   "cell_type": "markdown",
   "metadata": {},
   "source": [
    "# 3 Estudiar y comprobar los datos"
   ]
  },
  {
   "cell_type": "markdown",
   "metadata": {},
   "source": [
    "## 3.1 ¿Cuántos eventos hay en los registros?"
   ]
  },
  {
   "cell_type": "code",
   "execution_count": 24,
   "metadata": {},
   "outputs": [
    {
     "name": "stdout",
     "output_type": "stream",
     "text": [
      "Total de eventos: 243713\n",
      "\n",
      "event_name\n",
      "MainScreenAppear           119101\n",
      "OffersScreenAppear          46808\n",
      "CartScreenAppear            42668\n",
      "PaymentScreenSuccessful     34118\n",
      "Tutorial                     1018\n",
      "Name: count, dtype: int64\n"
     ]
    }
   ],
   "source": [
    "# Número de eventos hay en los registros\n",
    "print(f\"Total de eventos: {logs.shape[0]}\")\n",
    "event_name = logs['event_name'].value_counts()\n",
    "# mostrar los eventos por nombre\n",
    "print()\n",
    "print(event_name)"
   ]
  },
  {
   "cell_type": "markdown",
   "metadata": {},
   "source": [
    "## 3.2 ¿Cuántos usuarios hay en los registros?"
   ]
  },
  {
   "cell_type": "code",
   "execution_count": 25,
   "metadata": {},
   "outputs": [
    {
     "name": "stdout",
     "output_type": "stream",
     "text": [
      "Total de usuarios: 7551\n"
     ]
    }
   ],
   "source": [
    "# Número de usarios hay en los registros\n",
    "print(f\"Total de usuarios: {logs['device_id_hash'].nunique()}\")\n"
   ]
  },
  {
   "cell_type": "markdown",
   "metadata": {},
   "source": [
    "## 3.3  ¿Cuál es el promedio de eventos por usuario?"
   ]
  },
  {
   "cell_type": "code",
   "execution_count": 26,
   "metadata": {},
   "outputs": [
    {
     "name": "stdout",
     "output_type": "stream",
     "text": [
      "Promedio de eventos por usuario: 32.28\n"
     ]
    }
   ],
   "source": [
    "# Promedio de eventos por usuario\n",
    "events_per_user = logs.groupby('device_id_hash')['event_name'].count()\n",
    "events_per_user = events_per_user.mean()\n",
    "print(f\"Promedio de eventos por usuario: {events_per_user:.2f}\")"
   ]
  },
  {
   "cell_type": "markdown",
   "metadata": {},
   "source": [
    "## 3.4 ¿Qué periodo de tiempo cubren los datos?"
   ]
  },
  {
   "cell_type": "code",
   "execution_count": 27,
   "metadata": {},
   "outputs": [
    {
     "name": "stdout",
     "output_type": "stream",
     "text": [
      "Período de tiempo cubierto por los datos:\n",
      "Desde: 2019-07-25 04:43:36\n",
      "Hasta: 2019-08-07 21:15:17\n",
      "Duración: 13 days 16:31:41\n"
     ]
    }
   ],
   "source": [
    "# Encontrar la fecha maxima y minima\n",
    "print(\"Período de tiempo cubierto por los datos:\")\n",
    "print(f\"Desde: {logs['event_timestamp'].min()}\")\n",
    "print(f\"Hasta: {logs['event_timestamp'].max()}\")\n",
    "print(f\"Duración: {logs['event_timestamp'].max() - logs['event_timestamp'].min()}\")"
   ]
  },
  {
   "cell_type": "markdown",
   "metadata": {},
   "source": [
    "### 3.4.1 Traza un histograma por fecha y hora."
   ]
  },
  {
   "cell_type": "code",
   "execution_count": 28,
   "metadata": {},
   "outputs": [
    {
     "data": {
      "image/png": "[encoded data removed]",
      "text/plain": [
       "<Figure size 1200x600 with 1 Axes>"
      ]
     },
     "metadata": {},
     "output_type": "display_data"
    }
   ],
   "source": [
    "# Histograma de eventos por fecha\n",
    "plt.figure(figsize=(12, 6)) \n",
    "sns.histplot(logs['date'], bins=30, kde=False, color='blue')\n",
    "plt.title('Histograma de eventos por fecha')\n",
    "plt.xlabel('Fecha')\n",
    "plt.ylabel('Número de eventos')\n",
    "plt.xticks(rotation=45)\n",
    "plt.tight_layout()\n",
    "plt.show()"
   ]
  },
  {
   "cell_type": "markdown",
   "metadata": {},
   "source": [
    "### 3.4.2 ¿Qué periodo representan realmente los datos?"
   ]
  },
  {
   "cell_type": "code",
   "execution_count": 29,
   "metadata": {},
   "outputs": [
    {
     "name": "stdout",
     "output_type": "stream",
     "text": [
      "Período de tiempo cubierto por los datos:\n",
      "Desde: 2019-08-01 00:07:28\n",
      "Hasta: 2019-08-07 21:15:17\n",
      "Duración: 6 days 21:07:49\n"
     ]
    }
   ],
   "source": [
    "# Filtrar datos a partir del 01/08/2019\n",
    "logs_filtered = logs[logs['event_timestamp'] >= '2019-08-01']\n",
    "print(\"Período de tiempo cubierto por los datos:\")\n",
    "print(f\"Desde: {logs_filtered['event_timestamp'].min()}\")\n",
    "print(f\"Hasta: {logs_filtered['event_timestamp'].max()}\")\n",
    "print(f\"Duración: {logs_filtered['event_timestamp'].max() - logs_filtered['event_timestamp'].min()}\")"
   ]
  },
  {
   "cell_type": "markdown",
   "metadata": {},
   "source": [
    "### 3.4.3 ¿Perdiste muchos eventos y usuarios al excluir los datos más antiguos?"
   ]
  },
  {
   "cell_type": "code",
   "execution_count": 30,
   "metadata": {},
   "outputs": [
    {
     "name": "stdout",
     "output_type": "stream",
     "text": [
      "Número de registros en logs: 243713\n",
      "Número de registros en logs_filtered: 240887\n"
     ]
    }
   ],
   "source": [
    "# Diferencia de registos entre logs y logs_filtered\n",
    "print(f\"Número de registros en logs: {logs.shape[0]}\")\n",
    "print(f\"Número de registros en logs_filtered: {logs_filtered.shape[0]}\")"
   ]
  },
  {
   "cell_type": "code",
   "execution_count": 31,
   "metadata": {},
   "outputs": [
    {
     "name": "stdout",
     "output_type": "stream",
     "text": [
      "Diferencia de registros: 2826\n"
     ]
    }
   ],
   "source": [
    "logs1 = logs.shape[0]\n",
    "logs2 = logs_filtered.shape[0]\n",
    "# calcular la diferencia de registros\n",
    "difference = logs1 - logs2\n",
    "print(f\"Diferencia de registros: {difference}\")"
   ]
  },
  {
   "cell_type": "markdown",
   "metadata": {},
   "source": [
    "Perdimos un total de 2826 regitros,  podría sonar a que son muchos, pero de un total de 240887, es apenas un 1% de los datos "
   ]
  },
  {
   "cell_type": "markdown",
   "metadata": {},
   "source": [
    "### 3.4.4 Asegúrate de tener usuarios de los tres grupos experimentales."
   ]
  },
  {
   "cell_type": "code",
   "execution_count": 32,
   "metadata": {},
   "outputs": [
    {
     "name": "stdout",
     "output_type": "stream",
     "text": [
      "Conteo de eventos por tipo de exploración:\n",
      "expld\n",
      "248    84563\n",
      "246    79302\n",
      "247    77022\n",
      "Name: count, dtype: int64\n"
     ]
    },
    {
     "data": {
      "image/png": "[encoded data removed]",
      "text/plain": [
       "<Figure size 1000x500 with 1 Axes>"
      ]
     },
     "metadata": {},
     "output_type": "display_data"
    }
   ],
   "source": [
    "# Mostrar la cantidad de usarios por grupo experimental aun presentes em el df filtrado\n",
    "print(\"Conteo de eventos por tipo de exploración:\")\n",
    "print(logs_filtered['expld'].value_counts())\n",
    "logs_filtered['expld']. value_counts().plot(kind='bar', figsize=(10, 5), color='skyblue')\n",
    "plt.title('Conteo de eventos por tipo de exploración')\n",
    "plt.xlabel('Tipo de exploración')\n",
    "plt.ylabel('Número de eventos')\n",
    "plt.xticks(rotation=45)\n",
    "plt.tight_layout()\n",
    "plt.show()\n"
   ]
  },
  {
   "cell_type": "markdown",
   "metadata": {},
   "source": [
    "# 4 Estudiar el embudo de eventos"
   ]
  },
  {
   "cell_type": "markdown",
   "metadata": {},
   "source": [
    "## 4.1 Observa qué eventos hay en los registros y su frecuencia de suceso. Ordénalos por frecuencia."
   ]
  },
  {
   "cell_type": "code",
   "execution_count": 33,
   "metadata": {},
   "outputs": [
    {
     "name": "stdout",
     "output_type": "stream",
     "text": [
      "Eventos ordenados por frecuencia:\n",
      "                event_name   count\n",
      "0         MainScreenAppear  117328\n",
      "1       OffersScreenAppear   46333\n",
      "2         CartScreenAppear   42303\n",
      "3  PaymentScreenSuccessful   33918\n",
      "4                 Tutorial    1005\n"
     ]
    }
   ],
   "source": [
    "# Ordenar eventos por frecuencia\n",
    "event_counts = logs_filtered['event_name'].value_counts().reset_index()\n",
    "event_counts.columns = ['event_name', 'count']\n",
    "# Mostrar los eventos ordenados por frecuencia\n",
    "print(\"Eventos ordenados por frecuencia:\")\n",
    "print(event_counts)"
   ]
  },
  {
   "cell_type": "markdown",
   "metadata": {},
   "source": [
    "## 4.2 Encuentra la cantidad de usuarios que realizaron cada una de estas acciones. Ordena los eventos por el número de usuarios. Calcula la proporción de usuarios que realizaron la acción al menos una vez."
   ]
  },
  {
   "cell_type": "code",
   "execution_count": 34,
   "metadata": {},
   "outputs": [
    {
     "name": "stdout",
     "output_type": "stream",
     "text": [
      "Cantidad de usuarios que han realizado cada evento:\n",
      "                event_name  unique_users\n",
      "0         CartScreenAppear          3734\n",
      "1         MainScreenAppear          7419\n",
      "2       OffersScreenAppear          4593\n",
      "3  PaymentScreenSuccessful          3539\n",
      "4                 Tutorial           840\n"
     ]
    }
   ],
   "source": [
    "# Cantidad de usarios que han realizado cada evento\n",
    "user_counts = logs_filtered.groupby('event_name')['device_id_hash'].nunique().reset_index()\n",
    "user_counts.columns = ['event_name', 'unique_users']\n",
    "# Mostrar la cantidad de usuarios que han realizado cada evento\n",
    "print(\"Cantidad de usuarios que han realizado cada evento:\")\n",
    "print(user_counts)"
   ]
  },
  {
   "cell_type": "code",
   "execution_count": 35,
   "metadata": {},
   "outputs": [
    {
     "name": "stdout",
     "output_type": "stream",
     "text": [
      "Eventos ordenados por el número de usuarios:\n",
      "                event_name  unique_users\n",
      "1         MainScreenAppear          7419\n",
      "2       OffersScreenAppear          4593\n",
      "0         CartScreenAppear          3734\n",
      "3  PaymentScreenSuccessful          3539\n",
      "4                 Tutorial           840\n"
     ]
    }
   ],
   "source": [
    "# Ordena los eventos por el número de usuarios\n",
    "user_counts_sorted = user_counts.sort_values(by='unique_users', ascending=False)\n",
    "# Mostrar los eventos ordenados por el número de usuarios   \n",
    "print(\"Eventos ordenados por el número de usuarios:\")\n",
    "print(user_counts_sorted)"
   ]
  },
  {
   "cell_type": "code",
   "execution_count": 36,
   "metadata": {},
   "outputs": [
    {
     "name": "stdout",
     "output_type": "stream",
     "text": [
      "Proporción de usuarios que realizaron cada evento:\n",
      "                event_name  proportion\n",
      "1         MainScreenAppear    0.984736\n",
      "2       OffersScreenAppear    0.609636\n",
      "0         CartScreenAppear    0.495620\n",
      "3  PaymentScreenSuccessful    0.469737\n",
      "4                 Tutorial    0.111495\n"
     ]
    }
   ],
   "source": [
    "# Calcula la propoción de usuarios que realizarón cada evento\n",
    "user_counts_sorted['proportion'] = user_counts_sorted['unique_users'] / logs_filtered['device_id_hash'].nunique()\n",
    "# Mostrar la proporción de usuarios que realizaron cada evento\n",
    "print(\"Proporción de usuarios que realizaron cada evento:\")\n",
    "print(user_counts_sorted[['event_name', 'proportion']])\n"
   ]
  },
  {
   "cell_type": "code",
   "execution_count": 37,
   "metadata": {},
   "outputs": [
    {
     "name": "stderr",
     "output_type": "stream",
     "text": [
      "C:\\Users\\chino\\AppData\\Local\\Temp\\ipykernel_27912\\2217955059.py:3: FutureWarning: \n",
      "\n",
      "Passing `palette` without assigning `hue` is deprecated and will be removed in v0.14.0. Assign the `x` variable to `hue` and set `legend=False` for the same effect.\n",
      "\n",
      "  sns.barplot(x='event_name', y='proportion', data=user_counts_sorted, palette='viridis')\n"
     ]
    },
    {
     "data": {
      "image/png": "[encoded data removed]",
      "text/plain": [
       "<Figure size 1200x600 with 1 Axes>"
      ]
     },
     "metadata": {},
     "output_type": "display_data"
    }
   ],
   "source": [
    " # Visualizar la proporción de usuarios que realizaron cada evento\n",
    "plt.figure(figsize=(12, 6))\n",
    "sns.barplot(x='event_name', y='proportion', data=user_counts_sorted, palette='viridis')\n",
    "plt.title('Proporción de usuarios que realizaron cada evento')\n",
    "plt.xlabel('Evento')\n",
    "plt.ylabel('Proporción de usuarios')\n",
    "plt.xticks(rotation=45)\n",
    "plt.tight_layout()\n",
    "plt.show()"
   ]
  },
  {
   "cell_type": "markdown",
   "metadata": {},
   "source": [
    "## 4.3 ¿En qué orden crees que ocurrieron las acciones? ¿Todas son parte de una sola secuencia? No es necesario tenerlas en cuenta al calcular el embudo."
   ]
  },
  {
   "attachments": {},
   "cell_type": "markdown",
   "metadata": {
    "jp-MarkdownHeadingCollapsed": true
   },
   "source": [
    "Teoricamente la secuencia de eventos deberia de ser la sigueinte:\n",
    "\n",
    "1) MainScreenAppear (el usuario ve la pagina principal)\n",
    "2) OfferScreenAppear (el usario ve o llega a la pagina de ofertas)\n",
    "3) CartScreenAppear ( el usario agrega productos a su carrito y ve la pagina del carrito)\n",
    "4) PaymentScreenSuccesful ( el usuario ve la pagina de pago realizado correctamente)\n",
    "\n",
    "Me baso en esa secuencia, ya que la proporción de usarios que ve la pagina principal es de casi 1 (0.98) dando una relación casi perfecta entre la frecuencia de la acción y el numero de usarios que realizan esa acción\n",
    "\n",
    "No todas  las acciones son parte de una sola secuencia ya que la pantalla de tutorial teoricamente deberia ser visitada con la misma frecuencia que la pagina inicial si se desea aprender a hacer un pedido.\n",
    "\n",
    "Supongo que la pagina de tutorial es opcional y solo es utilizada si nunca se ha pedido un producto por una tienda online. De alli su baja proporción de uso por parte de los usuarios.\n",
    "\n",
    "\n",
    "\n",
    "\n"
   ]
  },
  {
   "cell_type": "markdown",
   "metadata": {},
   "source": [
    "## 4.4 Utiliza el embudo de eventos para encontrar la proporción de usuarios que pasan de una etapa a la siguiente. Por ejemplo, para la secuencia de eventos A → B → C, calcula la proporción de usuarios en la etapa B a la cantidad de usuarios en la etapa A y la proporción de usuarios en la etapa C a la cantidad en la etapa B."
   ]
  },
  {
   "cell_type": "code",
   "execution_count": 38,
   "metadata": {},
   "outputs": [
    {
     "name": "stdout",
     "output_type": "stream",
     "text": [
      "Etapa: MainScreenAppear, Usuarios: 7419, Proporción Total: 0.98\n",
      "Etapa: OffersScreenAppear, Usuarios: 4593, Conversión (desde MainScreenAppear): 0.60\n",
      "Etapa: CartScreenAppear, Usuarios: 3734, Conversión (desde OffersScreenAppear): 0.80\n",
      "Etapa: PaymentScreenSuccessful, Usuarios: 3539, Conversión (desde CartScreenAppear): 0.95\n"
     ]
    }
   ],
   "source": [
    "# Ordenar los eventos de cada usuario por timestamp\n",
    "logs_filtered_sorted = logs_filtered.sort_values(by=['device_id_hash', 'event_timestamp'])\n",
    "\n",
    "# Definir la secuencia de eventos de interés \n",
    "funnel_sequence = ['MainScreenAppear', 'OffersScreenAppear', 'CartScreenAppear', 'PaymentScreenSuccessful']\n",
    "\n",
    "# Crear un DataFrame para cada evento en la secuencia, conteniendo solo los usuarios que han realizado ese evento\n",
    "users_in_sequence = {}\n",
    "for event in funnel_sequence:\n",
    "    users_in_sequence[event] = logs_filtered_sorted[logs_filtered_sorted['event_name'] == event]['device_id_hash'].unique()\n",
    "\n",
    "# Calcular el número de usuarios únicos en cada etapa del embudo\n",
    "funnel_users_count = {}\n",
    "for event in funnel_sequence:\n",
    "    funnel_users_count[event] = len(users_in_sequence[event])\n",
    "\n",
    "# Calcular la proporción de usuarios que pasan de una etapa a la siguiente\n",
    "funnel_conversion = {}\n",
    "previous_event_users = None\n",
    "for i, event in enumerate(funnel_sequence):\n",
    "    current_event_users = users_in_sequence[event]\n",
    "    if i == 0:\n",
    "        # La primera etapa no tiene una etapa anterior para calcular la conversión paso a paso\n",
    "        funnel_conversion[event] = 1.0 # O se puede considerar la proporción respecto al total de usuarios en los datos filtrados\n",
    "        total_users_filtered = logs_filtered['device_id_hash'].nunique()\n",
    "        print(f\"Etapa: {event}, Usuarios: {funnel_users_count[event]}, Proporción Total: {funnel_users_count[event] / total_users_filtered:.2f}\")\n",
    "    else:\n",
    "        # Usuarios que realizaron tanto el evento anterior como el actual\n",
    "        users_transition = np.intersect1d(previous_event_users, current_event_users)\n",
    "        funnel_conversion[event] = len(users_transition) / len(previous_event_users) if len(previous_event_users) > 0 else 0\n",
    "        print(f\"Etapa: {event}, Usuarios: {funnel_users_count[event]}, Conversión (desde {funnel_sequence[i-1]}): {funnel_conversion[event]:.2f}\")\n",
    "\n",
    "    previous_event_users = current_event_users"
   ]
  },
  {
   "cell_type": "code",
   "execution_count": 39,
   "metadata": {},
   "outputs": [
    {
     "data": {
      "image/png": "[encoded data removed]",
      "text/plain": [
       "<Figure size 1000x600 with 1 Axes>"
      ]
     },
     "metadata": {},
     "output_type": "display_data"
    }
   ],
   "source": [
    "# Visualizar el embudo\n",
    "funnel_data = pd.DataFrame({'stage': funnel_sequence,'users': [funnel_users_count[event] for event in funnel_sequence]})\n",
    "\n",
    "# Calcular las tasas de conversión de cada paso para la visualización\n",
    "funnel_data['conversion_rate'] = funnel_data['users'].pct_change().fillna(1) # Cambio porcentual entre etapas\n",
    "funnel_data['conversion_rate_from_start'] = funnel_data['users'] / funnel_data['users'].iloc[0] # Tasa desde el inicio\n",
    "\n",
    "plt.figure(figsize=(10, 6))\n",
    "sns.barplot(x='stage', y='users', data=funnel_data)\n",
    "plt.title('Embudo de Eventos')\n",
    "plt.xlabel('Etapa')\n",
    "plt.ylabel('Número de Usuarios')\n",
    "plt.xticks(rotation=45)\n",
    "plt.show()\n"
   ]
  },
  {
   "cell_type": "markdown",
   "metadata": {},
   "source": [
    "## 4.5 ¿En qué etapa pierdes más usuarios?"
   ]
  },
  {
   "cell_type": "markdown",
   "metadata": {},
   "source": [
    "Podemos apreciar que en la etapa donde se pierden más usuarios es en el paso de MainScreenAppear a OfferScreenAppear o para simplificarlo podriamos llamrle la etapa 1 .\n",
    "\n",
    "La perdida de usarios es de casi el 40%.\n",
    "\n",
    "El resto de las estapas se mantienen muy sanas, ya que solo hay una perdida del 20%  de la etapa 2 que es de la pantalla de ofertas a la pantalla de agregar al carrito.\n",
    "\n",
    "Y es aun más sana la etapa 3, ya que al pagar los productos del carrito, solo tenemos una perdida del 5% de los usarios.\n",
    "\n",
    "Talves las ofertas del sitio no son tan buenas ya que solo logran atraer al 60% de los usarios que visitan la pagina principal."
   ]
  },
  {
   "cell_type": "markdown",
   "metadata": {},
   "source": [
    "## 4.6 ¿Qué porcentaje de usuarios hace todo el viaje desde su primer evento hasta el pago?"
   ]
  },
  {
   "cell_type": "code",
   "execution_count": 40,
   "metadata": {},
   "outputs": [
    {
     "name": "stdout",
     "output_type": "stream",
     "text": [
      "Porcentaje de usuarios que completan todo el viaje desde su primer evento hasta el pago: 46.97%\n"
     ]
    }
   ],
   "source": [
    "# Calcular el porcentaje de usuarios que completan todo el viaje desde su primer evento hasta el pago\n",
    "total_users = logs_filtered['device_id_hash'].nunique()\n",
    "users_completed_funnel = logs_filtered[logs_filtered['event_name'] == 'PaymentScreenSuccessful']['device_id_hash'].nunique()\n",
    "completion_rate = users_completed_funnel / total_users if total_users > 0 else 0\n",
    "print(f\"Porcentaje de usuarios que completan todo el viaje desde su primer evento hasta el pago: {completion_rate:.2%}\")"
   ]
  },
  {
   "cell_type": "markdown",
   "metadata": {},
   "source": [
    "De todo el viaje del embudo, desde la pantalla principal hata llevar a cabo un pago, solo  un 47% de los usarios lo recorre hasta el final"
   ]
  },
  {
   "cell_type": "markdown",
   "metadata": {},
   "source": [
    "# 5 Estudiar los resultados del experimento"
   ]
  },
  {
   "cell_type": "markdown",
   "metadata": {},
   "source": [
    "## 5.1 ¿Cuántos usuarios hay en cada grupo?"
   ]
  },
  {
   "cell_type": "markdown",
   "metadata": {},
   "source": [
    "Tenemos un total de:\n",
    "\n",
    "79302 usuarios presnetes en el grupo control 246\n",
    "\n",
    "77022 usuarios presentes en el grupo control 247\n",
    "\n",
    "84563 usuarios presentes en el grupo experimental 248\n",
    "\n",
    "Resultados obtenidos anterirormente del punto 3.4.4\n"
   ]
  },
  {
   "cell_type": "markdown",
   "metadata": {},
   "source": [
    "## 5.2 Observa si hay una diferencia estadísticamente significativa entre las muestras 246 y 247."
   ]
  },
  {
   "cell_type": "code",
   "execution_count": 41,
   "metadata": {},
   "outputs": [],
   "source": [
    "# Filtrar los registros para las muestras 246 y 247\n",
    "sample_A1 = logs_filtered[logs_filtered['expld'] == 246]\n",
    "sample_A2 = logs_filtered[logs_filtered['expld'] == 247]\n"
   ]
  },
  {
   "cell_type": "code",
   "execution_count": 42,
   "metadata": {},
   "outputs": [
    {
     "name": "stdout",
     "output_type": "stream",
     "text": [
      " Valor p de la prueba de Mann-Whitney: 0.8722\n",
      "No hay una diferencia estadísticamente significativa entre las muestras 246 y 247 (prueba de Mann-Whitney U).\n"
     ]
    },
    {
     "data": {
      "image/png": "[encoded data removed]",
      "text/plain": [
       "<Figure size 1200x600 with 1 Axes>"
      ]
     },
     "metadata": {},
     "output_type": "display_data"
    }
   ],
   "source": [
    "alpha = 0.05\n",
    "# Hacer una prueba man whitney u para comparar las dos muestras\n",
    "u_stat, p_value_mw = stats.mannwhitneyu(sample_A1['device_id_hash'].value_counts(), sample_A2['device_id_hash'].value_counts(), alternative='two-sided')\n",
    "print(f\" Valor p de la prueba de Mann-Whitney: {p_value_mw:.4f}\")\n",
    "# Interpretar el valor p de la prueba de Mann-Whitney U\n",
    "if p_value_mw < alpha:\n",
    "    print(\"Hay una diferencia estadísticamente significativa entre las muestras 246 y 247 (prueba de Mann-Whitney U).\")\n",
    "else:\n",
    "    print(\"No hay una diferencia estadísticamente significativa entre las muestras 246 y 247 (prueba de Mann-Whitney U).\")\n",
    "# Visualizar la distribución de usuarios únicos en las muestras 246 y 247\n",
    "plt.figure(figsize=(12, 6))\n",
    "sns.histplot(sample_A1['device_id_hash'].value_counts(), bins=30, kde=True, color='blue', label='Muestra 246', stat='density')\n",
    "sns.histplot(sample_A2['device_id_hash'].value_counts(), bins=30, kde=True, color='orange', label='Muestra 247', stat='density')\n",
    "plt.title('Distribución de Usuarios Únicos en las Muestras 246 y 247')\n",
    "plt.xlabel('Número de Usuarios Únicos')\n",
    "plt.ylabel('Densidad')\n",
    "plt.legend()\n",
    "plt.tight_layout()\n",
    "plt.show()"
   ]
  },
  {
   "cell_type": "markdown",
   "metadata": {},
   "source": [
    "Esperabamos no encontrar diferencias estadísiticas entre ambas muestras,  ya que teoricamente los grupos control deben ser identicos para poder establecer una base A/A confiable en nuestra prueba."
   ]
  },
  {
   "cell_type": "markdown",
   "metadata": {},
   "source": [
    "## 5.3 Selecciona el evento más popular. En cada uno de los grupos de control, encuentra la cantidad de usuarios que realizaron esta acción. Encuentra su proporción. Comprueba si la diferencia entre los grupos es estadísticamente significativa. Repite el procedimiento para todos los demás eventos "
   ]
  },
  {
   "cell_type": "code",
   "execution_count": 43,
   "metadata": {},
   "outputs": [
    {
     "name": "stdout",
     "output_type": "stream",
     "text": [
      "Cantidad de usuarios en el grupo 246 que realizaron 'MainScreenAppear': 2450\n",
      "Cantidad de usuarios en el grupo 247 que realizaron 'MainScreenAppear': 2476\n"
     ]
    }
   ],
   "source": [
    "# Comparacion de grupos control \n",
    "ctrl_1 = logs_filtered[logs_filtered['expld'] == 246]\n",
    "ctrl_2 = logs_filtered[logs_filtered['expld'] == 247]\n",
    "# Filtrar los registros para los grupos de control (246 y 247) y el evento 'MainScreenAppear'\n",
    "main_screen_246 = ctrl_1[ctrl_1['event_name'] == 'MainScreenAppear']\n",
    "main_screen_247 = ctrl_2[ctrl_2['event_name'] == 'MainScreenAppear']\n",
    "\n",
    "# Contar el número de usuarios únicos en cada grupo que realizaron el evento 'MainScreenAppear'\n",
    "users_main_screen_246 = main_screen_246['device_id_hash'].nunique()\n",
    "users_main_screen_247 = main_screen_247['device_id_hash'].nunique()\n",
    "\n",
    "print(f\"Cantidad de usuarios en el grupo 246 que realizaron 'MainScreenAppear': {users_main_screen_246}\")\n",
    "print(f\"Cantidad de usuarios en el grupo 247 que realizaron 'MainScreenAppear': {users_main_screen_247}\")"
   ]
  },
  {
   "cell_type": "markdown",
   "metadata": {},
   "source": [
    "El numero de usarios como debe ser en ambos grupos controol es casi el mismo"
   ]
  },
  {
   "cell_type": "code",
   "execution_count": 44,
   "metadata": {},
   "outputs": [
    {
     "name": "stdout",
     "output_type": "stream",
     "text": [
      "Proporción de usuarios que realizaron 'MainScreenAppear' en el grupo 246: 98.63%\n",
      "Proporción de usuarios que realizaron 'MainScreenAppear' en el grupo 247: 98.53%\n"
     ]
    }
   ],
   "source": [
    "# Calcular el número de usuarios únicos en cada muestra\n",
    "users_246 = sample_A1['device_id_hash'].nunique()\n",
    "users_247 = sample_A2['device_id_hash'].nunique()\n",
    "\n",
    "# Calcula la proporción de usuarios que realizaron 'MainScreenAppear' en cada grupo de control\n",
    "proportion_main_screen_246 = users_main_screen_246 / users_246 if users_246 > 0 else 0\n",
    "proportion_main_screen_247 = users_main_screen_247 / users_247 if users_247 > 0 else 0\n",
    "\n",
    "print(f\"Proporción de usuarios que realizaron 'MainScreenAppear' en el grupo 246: {proportion_main_screen_246:.2%}\")\n",
    "print(f\"Proporción de usuarios que realizaron 'MainScreenAppear' en el grupo 247: {proportion_main_screen_247:.2%}\")"
   ]
  },
  {
   "cell_type": "markdown",
   "metadata": {},
   "source": [
    "Evento mas popular con una proporción casi perfecta por ser la primera etapa del enbudo es el de \"MainScreenAppear\" y ambos grupos control son muy similares "
   ]
  },
  {
   "cell_type": "markdown",
   "metadata": {},
   "source": [
    "### 5.3.1 Comprueba si la diferencia entre los grupos es estadísticamente significativa"
   ]
  },
  {
   "cell_type": "code",
   "execution_count": 45,
   "metadata": {},
   "outputs": [
    {
     "name": "stdout",
     "output_type": "stream",
     "text": [
      " Valor p de la prueba de Mann-Whitney: 0.8722\n",
      "No hay una diferencia estadísticamente significativa en la cantidad de usuarios que realizaron 'MainScreenAppear' entre los grupos 246 y 247.\n"
     ]
    }
   ],
   "source": [
    "# Hacer una prueba de hipótesis para comparar el numero usuarios que realizaron 'MainScreenAppear' en los dos grupos de control\n",
    "alpha = 0.05\n",
    "u_stat_main_screen, p_value_main_screen = stats.mannwhitneyu(main_screen_246['device_id_hash'].value_counts(),main_screen_247['device_id_hash'].value_counts(),alternative='two-sided')\n",
    "print(f\" Valor p de la prueba de Mann-Whitney: {p_value_mw:.4f}\")\n",
    "# Interpretar el valor p de la prueba de Mann-Whitney U para 'MainScreenAppear'\n",
    "if p_value_main_screen < alpha:\n",
    "    print(\"Hay una diferencia estadísticamente significativa en la cantidad de usuarios que realizaron 'MainScreenAppear' entre los grupos 246 y 247.\")\n",
    "else:\n",
    "    print(\"No hay una diferencia estadísticamente significativa en la cantidad de usuarios que realizaron 'MainScreenAppear' entre los grupos 246 y 247.\")"
   ]
  },
  {
   "cell_type": "code",
   "execution_count": 68,
   "metadata": {},
   "outputs": [
    {
     "name": "stdout",
     "output_type": "stream",
     "text": [
      "Media grupo 246: 15.37795918367347\n",
      "Media grupo 247: 15.787560581583199\n",
      "Mediana grupo 246: 11.0\n",
      "Mediana grupo 247: 11.0\n"
     ]
    }
   ],
   "source": [
    "# Mostrar la media y mediana de usuarios que realizaron 'MainScreenAppear' en cada grupo\n",
    "\n",
    "print('Media grupo 246:', main_screen_246['device_id_hash'].value_counts().mean())\n",
    "print('Media grupo 247:', main_screen_247['device_id_hash'].value_counts().mean())\n",
    "print('Mediana grupo 246:', main_screen_246['device_id_hash'].value_counts().median())\n",
    "print('Mediana grupo 247:', main_screen_247['device_id_hash'].value_counts().median())"
   ]
  },
  {
   "cell_type": "markdown",
   "metadata": {},
   "source": [
    "Como era de esperar no hay diferencias estadisticas en esta etapa del embudo entre los dos grupos control.\n",
    "\n",
    "Vamos por buen camino en establecer una base A-A solida para la prueba A-B"
   ]
  },
  {
   "cell_type": "code",
   "execution_count": 47,
   "metadata": {},
   "outputs": [
    {
     "data": {
      "image/png": "[encoded data removed]",
      "text/plain": [
       "<Figure size 1200x600 with 1 Axes>"
      ]
     },
     "metadata": {},
     "output_type": "display_data"
    }
   ],
   "source": [
    "# Visualizar la distribución de usuarios únicos que realizaron 'MainScreenAppear' en los grupos de control\n",
    "plt.figure(figsize=(12, 6))\n",
    "sns.histplot(main_screen_246['device_id_hash'].value_counts(), bins=30, kde=True, color='blue', label='Grupo 246', stat='density')\n",
    "sns.histplot(main_screen_247['device_id_hash'].value_counts(), bins=30, kde=True, color='orange', label='Grupo 247', stat='density')\n",
    "plt.title('Distribución de Usuarios Únicos que Realizaron \"MainScreenAppear\" en los Grupos 246 y 247')\n",
    "plt.xlabel('Número de Usuarios Únicos')\n",
    "plt.ylabel('Densidad')\n",
    "plt.legend()\n",
    "plt.tight_layout()\n",
    "plt.show()"
   ]
  },
  {
   "cell_type": "markdown",
   "metadata": {},
   "source": [
    "### 5.3.2 Elaboració de la fuinción para el resto de eventos y su significancia estadística "
   ]
  },
  {
   "cell_type": "code",
   "execution_count": 48,
   "metadata": {},
   "outputs": [],
   "source": [
    "# Crear una funcion para continuar encontrando difrencias estadisticas entre crtl_1 y ctrl_2 con el resto de eventos\n",
    "def compare_events(ctrl_1, ctrl_2, event_name):\n",
    "  \n",
    "    # Filtrar los registros para el evento específico\n",
    "    event_ctrl_1 = ctrl_1[ctrl_1['event_name'] == event_name]\n",
    "    event_ctrl_2 = ctrl_2[ctrl_2['event_name'] == event_name]\n",
    "\n",
    "    # Contar el número de usuarios únicos en cada grupo que realizaron el evento\n",
    "    users_event_ctrl_1 = event_ctrl_1['device_id_hash'].nunique()\n",
    "    users_event_ctrl_2 = event_ctrl_2['device_id_hash'].nunique()\n",
    "\n",
    "    print(f\"Cantidad de usuarios en el grupo 246 que realizaron '{event_name}': {users_event_ctrl_1}\")\n",
    "    print(f\"Cantidad de usuarios en el grupo 247 que realizaron '{event_name}': {users_event_ctrl_2}\")\n",
    "\n",
    "    # Calcular la proporción de usuarios que realizaron el evento en cada grupo de control\n",
    "    proportion_event_ctrl_1 = users_event_ctrl_1 / users_246 if users_246 > 0 else 0\n",
    "    proportion_event_ctrl_2 = users_event_ctrl_2 / users_247 if users_247 > 0 else 0\n",
    "\n",
    "    print(f\"Proporción de usuarios que realizaron '{event_name}' en el grupo 246: {proportion_event_ctrl_1:.2%}\")\n",
    "    print(f\"Proporción de usuarios que realizaron '{event_name}' en el grupo 247: {proportion_event_ctrl_2:.2%}\")\n",
    "\n",
    "    # Hacer una prueba de hipótesis para comparar el número de usuarios que realizaron el evento en los dos grupos de control\n",
    "    alpha = 0.05\n",
    "    u_stat_event, p_value_event = stats.mannwhitneyu(\n",
    "        event_ctrl_1['device_id_hash'].value_counts(),\n",
    "        event_ctrl_2['device_id_hash'].value_counts(),\n",
    "        alternative='two-sided'\n",
    "    )\n",
    "    \n",
    "    print(f\"Valor p de la prueba de Mann-Withney {p_value_event:.4f}\")\n",
    "    # Interpretar el valor p de la prueba de Mann-Whitney U para el evento\n",
    "    if p_value_event < alpha:\n",
    "        print(f\"Hay una diferencia estadísticamente significativa en la cantidad de usuarios que realizaron '{event_name}' entre los grupos 246 y 247.\")\n",
    "    else:\n",
    "        print(f\"No hay una diferencia estadísticamente significativa en la cantidad de usuarios que realizaron '{event_name}' entre los grupos 246 y 247.\")"
   ]
  },
  {
   "cell_type": "code",
   "execution_count": 49,
   "metadata": {},
   "outputs": [
    {
     "name": "stdout",
     "output_type": "stream",
     "text": [
      "\n",
      "Comparando el evento: OffersScreenAppear\n",
      "Cantidad de usuarios en el grupo 246 que realizaron 'OffersScreenAppear': 1542\n",
      "Cantidad de usuarios en el grupo 247 que realizaron 'OffersScreenAppear': 1520\n",
      "Proporción de usuarios que realizaron 'OffersScreenAppear' en el grupo 246: 62.08%\n",
      "Proporción de usuarios que realizaron 'OffersScreenAppear' en el grupo 247: 60.49%\n",
      "Valor p de la prueba de Mann-Withney 0.8436\n",
      "No hay una diferencia estadísticamente significativa en la cantidad de usuarios que realizaron 'OffersScreenAppear' entre los grupos 246 y 247.\n",
      "\n",
      "Comparando el evento: CartScreenAppear\n",
      "Cantidad de usuarios en el grupo 246 que realizaron 'CartScreenAppear': 1266\n",
      "Cantidad de usuarios en el grupo 247 que realizaron 'CartScreenAppear': 1238\n",
      "Proporción de usuarios que realizaron 'CartScreenAppear' en el grupo 246: 50.97%\n",
      "Proporción de usuarios que realizaron 'CartScreenAppear' en el grupo 247: 49.26%\n",
      "Valor p de la prueba de Mann-Withney 0.4601\n",
      "No hay una diferencia estadísticamente significativa en la cantidad de usuarios que realizaron 'CartScreenAppear' entre los grupos 246 y 247.\n",
      "\n",
      "Comparando el evento: PaymentScreenSuccessful\n",
      "Cantidad de usuarios en el grupo 246 que realizaron 'PaymentScreenSuccessful': 1200\n",
      "Cantidad de usuarios en el grupo 247 que realizaron 'PaymentScreenSuccessful': 1158\n",
      "Proporción de usuarios que realizaron 'PaymentScreenSuccessful' en el grupo 246: 48.31%\n",
      "Proporción de usuarios que realizaron 'PaymentScreenSuccessful' en el grupo 247: 46.08%\n",
      "Valor p de la prueba de Mann-Withney 0.4063\n",
      "No hay una diferencia estadísticamente significativa en la cantidad de usuarios que realizaron 'PaymentScreenSuccessful' entre los grupos 246 y 247.\n"
     ]
    }
   ],
   "source": [
    "#Llamar a la función para comparar eventos específicos\n",
    "events_to_compare = [\n",
    "    'OffersScreenAppear',\n",
    "    'CartScreenAppear',\n",
    "    'PaymentScreenSuccessful'\n",
    "]\n",
    "for event in events_to_compare:\n",
    "    print(f\"\\nComparando el evento: {event}\")\n",
    "    # Check if both groups have users for this event before calling compare_events\n",
    "    n1 = ctrl_1[ctrl_1['event_name'] == event]['device_id_hash'].nunique()\n",
    "    n2 = ctrl_2[ctrl_2['event_name'] == event]['device_id_hash'].nunique()\n",
    "    if n1 == 0 or n2 == 0:\n",
    "        print(f\"Uno de los grupos no tiene usuarios para el evento '{event}'. Se omite la comparación.\")\n",
    "        continue\n",
    "    compare_events(ctrl_1, ctrl_2, event)"
   ]
  },
  {
   "cell_type": "markdown",
   "metadata": {},
   "source": [
    "No existen diferencias estadisticamente significativas en ninguna etapa del embudo entre los dos grupos control, lo cual es una exclente noticia.\n",
    "\n",
    "Podemos confirmar tener una base solida en la prueba A-A para la prueba A-B y podemos concluir que los grupos se dividieron correcta entre los grupos control\n",
    "\n"
   ]
  },
  {
   "cell_type": "markdown",
   "metadata": {},
   "source": [
    "## 5.4 Haz lo mismo para el grupo con fuentes alteradas. Compara los resultados con los de cada uno de los grupos de control para cada evento de forma aislada\n"
   ]
  },
  {
   "cell_type": "markdown",
   "metadata": {},
   "source": [
    "Primero establecemos las variables del grupo experimental de la misma forma que se hizó para los grupos control, para hacer mas facil el resto de analisis estadisticos para este grupo (248)"
   ]
  },
  {
   "cell_type": "code",
   "execution_count": 50,
   "metadata": {},
   "outputs": [],
   "source": [
    "#Grupo experimental 248\n",
    "expt_1 = logs_filtered[logs_filtered['expld'] == 248]\n",
    "sample_B1 = logs_filtered[logs_filtered['expld'] == 248]\n",
    "users_248 = sample_B1['device_id_hash'].nunique()\n",
    "# Filtrar los registros para el grupo experimental y el evento 'MainScreenAppear'\n",
    "main_screen_248 = expt_1[expt_1['event_name'] == 'MainScreenAppear']\n",
    "\n"
   ]
  },
  {
   "cell_type": "markdown",
   "metadata": {},
   "source": [
    "Una ves ya listas las variables primero comprobemos de manera individual cada grupo control vs el grupo experimental si hay diferencias estadisiticamentes diferentes en el tamaño de los grupos"
   ]
  },
  {
   "cell_type": "markdown",
   "metadata": {},
   "source": [
    "### 5.4.1 Llevar acabo comparaciones de de ambos grupos control VS grupo experimental por separado en tamaño de muestra y cada evento del embudo"
   ]
  },
  {
   "cell_type": "markdown",
   "metadata": {},
   "source": [
    "Comparación de tamaño de muestra entre el grupo control 1 (246) VS grupo experimental (248)"
   ]
  },
  {
   "cell_type": "code",
   "execution_count": 51,
   "metadata": {},
   "outputs": [
    {
     "name": "stdout",
     "output_type": "stream",
     "text": [
      " Valor p de la prueba de Mann-Whitney: 0.4263\n",
      "No hay una diferencia estadísticamente significativa entre las muestras 246 y 248 (prueba de Mann-Whitney U).\n"
     ]
    },
    {
     "data": {
      "image/png": "[encoded data removed]",
      "text/plain": [
       "<Figure size 1200x600 with 1 Axes>"
      ]
     },
     "metadata": {},
     "output_type": "display_data"
    }
   ],
   "source": [
    "# Prueba Man whitney U para comparar grupo conmtrol 246 y grupo experimental 248\n",
    "alpha = 0.05 \n",
    "u_stat, p_value_mw = stats.mannwhitneyu(sample_A1['device_id_hash'].value_counts(), sample_B1['device_id_hash'].value_counts(), alternative='two-sided')\n",
    "print(f\" Valor p de la prueba de Mann-Whitney: {p_value_mw:.4f}\")\n",
    "# Interpretar el valor p de la prueba de Mann-Whitney U\n",
    "if p_value_mw < alpha:\n",
    "    print(\"Hay una diferencia estadísticamente significativa entre las muestras 246 y 248 (prueba de Mann-Whitney U).\")\n",
    "else:\n",
    "    print(\"No hay una diferencia estadísticamente significativa entre las muestras 246 y 248 (prueba de Mann-Whitney U).\")\n",
    "# Visualizar la distribución de usuarios únicos en las muestras 246 y 247\n",
    "plt.figure(figsize=(12, 6))\n",
    "sns.histplot(sample_A1['device_id_hash'].value_counts(), bins=30, kde=True, color='blue', label='Muestra 246', stat='density')\n",
    "sns.histplot(sample_B1['device_id_hash'].value_counts(), bins=30, kde=True, color='orange', label='Muestra 248', stat='density')\n",
    "plt.title('Distribución de Usuarios Únicos en las Muestras 246 y 248')\n",
    "plt.xlabel('Número de Usuarios Únicos')\n",
    "plt.ylabel('Densidad')\n",
    "plt.legend()\n",
    "plt.tight_layout()\n",
    "plt.show()"
   ]
  },
  {
   "cell_type": "markdown",
   "metadata": {},
   "source": [
    "No parece haber diferencias significativas en el tamaño de los grupos, lo cual es bueno, así las comparaciones del resto de eventos sera equitativo y podremos si hay diferencias entre ellos. "
   ]
  },
  {
   "cell_type": "markdown",
   "metadata": {},
   "source": [
    "Comparación de tamaño de muestra entre el grupo control 2 (247) VS grupo experimental (248)"
   ]
  },
  {
   "cell_type": "code",
   "execution_count": 52,
   "metadata": {},
   "outputs": [
    {
     "name": "stdout",
     "output_type": "stream",
     "text": [
      " Valor p de la prueba de Mann-Whitney: 0.3308\n",
      "No hay una diferencia estadísticamente significativa entre las muestras 246 y 248 (prueba de Mann-Whitney U).\n"
     ]
    },
    {
     "data": {
      "image/png": "[encoded data removed]",
      "text/plain": [
       "<Figure size 1200x600 with 1 Axes>"
      ]
     },
     "metadata": {},
     "output_type": "display_data"
    }
   ],
   "source": [
    "# Prueba Man whitney U para comparar grupo conmtrol 247 y grupo experimental 248\n",
    "alpha = 0.05 \n",
    "u_stat, p_value_mw = stats.mannwhitneyu(sample_A2['device_id_hash'].value_counts(), sample_B1['device_id_hash'].value_counts(), alternative='two-sided')\n",
    "print(f\" Valor p de la prueba de Mann-Whitney: {p_value_mw:.4f}\")\n",
    "# Interpretar el valor p de la prueba de Mann-Whitney U\n",
    "if p_value_mw < alpha:\n",
    "    print(\"Hay una diferencia estadísticamente significativa entre las muestras 246 y 248 (prueba de Mann-Whitney U).\")\n",
    "else:\n",
    "    print(\"No hay una diferencia estadísticamente significativa entre las muestras 246 y 248 (prueba de Mann-Whitney U).\")\n",
    "# Visualizar la distribución de usuarios únicos en las muestras 246 y 247\n",
    "plt.figure(figsize=(12, 6))\n",
    "sns.histplot(sample_A2['device_id_hash'].value_counts(), bins=30, kde=True, color='blue', label='Muestra 247', stat='density')\n",
    "sns.histplot(sample_B1['device_id_hash'].value_counts(), bins=30, kde=True, color='orange', label='Muestra 248', stat='density')\n",
    "plt.title('Distribución de Usuarios Únicos en las Muestras 247 y 248')\n",
    "plt.xlabel('Número de Usuarios Únicos')\n",
    "plt.ylabel('Densidad')\n",
    "plt.legend()\n",
    "plt.tight_layout()\n",
    "plt.show()"
   ]
  },
  {
   "cell_type": "markdown",
   "metadata": {},
   "source": [
    "No parece haber diferencias significativas en el tamaño de los grupos entre el grupo control 2 y el experimental.\n",
    "\n",
    "A pesar de que visualmente si parece haber una diferencia importante en el tamaño de los grupos."
   ]
  },
  {
   "cell_type": "markdown",
   "metadata": {},
   "source": [
    "Al igual que con los grupos control, tomemos la primera etapa del grupo experimental y veamos su proporción "
   ]
  },
  {
   "cell_type": "code",
   "execution_count": 53,
   "metadata": {},
   "outputs": [
    {
     "name": "stdout",
     "output_type": "stream",
     "text": [
      "Cantidad de usuarios en el grupo experimental 248 que realizaron 'MainScreenAppear': 2493\n",
      "Proporción de usuarios que realizaron 'MainScreenAppear' en el grupo experimental 248: 33.09%\n"
     ]
    }
   ],
   "source": [
    "# Contar el número de usuarios únicos en el grupo experimental y el evento 'MainScreenAppear'\n",
    "users_main_screen_248 = main_screen_248['device_id_hash'].nunique()\n",
    "print(f\"Cantidad de usuarios en el grupo experimental 248 que realizaron 'MainScreenAppear': {users_main_screen_248}\")\n",
    "# Calcular la proporción de usuarios que realizaron 'MainScreenAppear' en el grupo experimental\n",
    "proportion_main_screen_248 = users_main_screen_248 / logs_filtered['device_id_hash'].nunique() if logs_filtered['device_id_hash'].nunique() > 0 else 0\n",
    "print(f\"Proporción de usuarios que realizaron 'MainScreenAppear' en el grupo experimental 248: {proportion_main_screen_248:.2%}\")"
   ]
  },
  {
   "cell_type": "markdown",
   "metadata": {},
   "source": [
    "Seleccionando el evento mas popular de igual manera que los grupos control (MainScreenAppear) nos damos cuenta que en el grupo experimental hay una proporcion muy baja de usarios que empezaron esta etapa.\n",
    "\n",
    "Primer resultado interesante, al parecer el grupo experimental no empezó en la etapa 1 de igual manera que los grupos control "
   ]
  },
  {
   "cell_type": "markdown",
   "metadata": {},
   "source": [
    "Comparación estadistica de la etapa 1 entre grupo control 1 VS experimental de la primera etapa"
   ]
  },
  {
   "cell_type": "code",
   "execution_count": 54,
   "metadata": {},
   "outputs": [
    {
     "name": "stdout",
     "output_type": "stream",
     "text": [
      " Valor p de la prueba de Mann-Whitney: 0.3308\n",
      "No hay una diferencia estadísticamente significativa en la cantidad de usuarios que realizaron 'MainScreenAppear' entre los grupos 246 y 248.\n"
     ]
    }
   ],
   "source": [
    "alpha = 0.05\n",
    "u_stat_main_screen, p_value_main_screen = stats.mannwhitneyu(\n",
    "    main_screen_246['device_id_hash'].value_counts(),\n",
    "    main_screen_248['device_id_hash'].value_counts(),\n",
    "    alternative='two-sided'\n",
    ")\n",
    "print(f\" Valor p de la prueba de Mann-Whitney: {p_value_mw:.4f}\")\n",
    "# Interpretar el valor p de la prueba de Mann-Whitney U para 'MainScreenAppear'\n",
    "if p_value_main_screen < alpha:\n",
    "    print(\"Hay una diferencia estadísticamente significativa en la cantidad de usuarios que realizaron 'MainScreenAppear' entre los grupos 246 y 248.\")\n",
    "else:\n",
    "    print(\"No hay una diferencia estadísticamente significativa en la cantidad de usuarios que realizaron 'MainScreenAppear' entre los grupos 246 y 248.\")\n",
    "\n"
   ]
  },
  {
   "cell_type": "markdown",
   "metadata": {},
   "source": [
    "Este resultado es aun mas interesante que el anterior a pesar de tener una prporción muy baja de usarios que iniciaron en la etapa 1 no existen diferencias estadisticas entre el grupo control 1 y el grupo experimental.\n",
    "\n",
    "Talves por primera ves en todas mis pruebas estadsiticas realizadas a la fecha, será prudente bajar el grado de significancia para poder observar alguna diferencia importante entre los grupos.\n",
    "\n",
    "Por el momento continuemos comparando las demás etapas entre el grupo control 1 y el experimental"
   ]
  },
  {
   "cell_type": "code",
   "execution_count": 55,
   "metadata": {},
   "outputs": [],
   "source": [
    "# Crear una funcion para continuar encontrando difrencias estadisticas entre crtl_1 y ctrl_2 con el resto de eventos\n",
    "def compare_events_exptl(ctrl_1, expt_1, event_name):\n",
    "  \n",
    "    # Filtrar los registros para el evento específico\n",
    "    event_ctrl_1 = ctrl_1[ctrl_1['event_name'] == event_name]\n",
    "    event_expt_1 = expt_1[expt_1['event_name'] == event_name]\n",
    "\n",
    "    # Contar el número de usuarios únicos en cada grupo que realizaron el evento\n",
    "    users_event_ctrl_1 = event_ctrl_1['device_id_hash'].nunique()\n",
    "    users_event_expt_1 = event_expt_1['device_id_hash'].nunique()\n",
    "\n",
    "    print(f\"Cantidad de usuarios en el grupo 246 que realizaron '{event_name}': {users_event_ctrl_1}\")\n",
    "    print(f\"Cantidad de usuarios en el grupo 248 que realizaron '{event_name}': {users_event_expt_1}\")\n",
    "\n",
    "    # Calcular la proporción de usuarios que realizaron el evento en cada grupo de control\n",
    "    proportion_event_ctrl_1 = users_event_ctrl_1 / users_246 if users_246 > 0 else 0\n",
    "    proportion_event_expt_1 = users_event_expt_1 / users_248 if users_248 > 0 else 0\n",
    "\n",
    "    print(f\"Proporción de usuarios que realizaron '{event_name}' en el grupo 246: {proportion_event_ctrl_1:.2%}\")\n",
    "    print(f\"Proporción de usuarios que realizaron '{event_name}' en el grupo 248: {proportion_event_expt_1:.2%}\")\n",
    "\n",
    "    # Hacer una prueba de hipótesis para comparar el número de usuarios que realizaron el evento en los dos grupos de control\n",
    "    alpha = 0.05\n",
    "    u_stat_event, p_value_event = stats.mannwhitneyu(\n",
    "        event_ctrl_1['device_id_hash'].value_counts(),\n",
    "        event_expt_1['device_id_hash'].value_counts(),\n",
    "        alternative='two-sided'\n",
    "    )\n",
    "    \n",
    "    print(f\"Valor p de la prueba de Mann-Withney {p_value_event:.4f}\")\n",
    "    # Interpretar el valor p de la prueba de Mann-Whitney U para el evento\n",
    "    if p_value_event < alpha:\n",
    "        print(f\"Hay una diferencia estadísticamente significativa en la cantidad de usuarios que realizaron '{event_name}' entre los grupos 246 y 248.\")\n",
    "    else:\n",
    "        print(f\"No hay una diferencia estadísticamente significativa en la cantidad de usuarios que realizaron '{event_name}' entre los grupos 246 y 248.\")"
   ]
  },
  {
   "cell_type": "code",
   "execution_count": 56,
   "metadata": {},
   "outputs": [
    {
     "name": "stdout",
     "output_type": "stream",
     "text": [
      "\n",
      "Comparando el evento: OffersScreenAppear\n",
      "Cantidad de usuarios en el grupo 246 que realizaron 'OffersScreenAppear': 1542\n",
      "Cantidad de usuarios en el grupo 248 que realizaron 'OffersScreenAppear': 1531\n",
      "Proporción de usuarios que realizaron 'OffersScreenAppear' en el grupo 246: 62.08%\n",
      "Proporción de usuarios que realizaron 'OffersScreenAppear' en el grupo 248: 60.35%\n",
      "Valor p de la prueba de Mann-Withney 0.7226\n",
      "No hay una diferencia estadísticamente significativa en la cantidad de usuarios que realizaron 'OffersScreenAppear' entre los grupos 246 y 248.\n",
      "\n",
      "Comparando el evento: CartScreenAppear\n",
      "Cantidad de usuarios en el grupo 246 que realizaron 'CartScreenAppear': 1266\n",
      "Cantidad de usuarios en el grupo 248 que realizaron 'CartScreenAppear': 1230\n",
      "Proporción de usuarios que realizaron 'CartScreenAppear' en el grupo 246: 50.97%\n",
      "Proporción de usuarios que realizaron 'CartScreenAppear' en el grupo 248: 48.48%\n",
      "Valor p de la prueba de Mann-Withney 0.0949\n",
      "No hay una diferencia estadísticamente significativa en la cantidad de usuarios que realizaron 'CartScreenAppear' entre los grupos 246 y 248.\n",
      "\n",
      "Comparando el evento: PaymentScreenSuccessful\n",
      "Cantidad de usuarios en el grupo 246 que realizaron 'PaymentScreenSuccessful': 1200\n",
      "Cantidad de usuarios en el grupo 248 que realizaron 'PaymentScreenSuccessful': 1181\n",
      "Proporción de usuarios que realizaron 'PaymentScreenSuccessful' en el grupo 246: 48.31%\n",
      "Proporción de usuarios que realizaron 'PaymentScreenSuccessful' en el grupo 248: 46.55%\n",
      "Valor p de la prueba de Mann-Withney 0.5662\n",
      "No hay una diferencia estadísticamente significativa en la cantidad de usuarios que realizaron 'PaymentScreenSuccessful' entre los grupos 246 y 248.\n"
     ]
    }
   ],
   "source": [
    "#Llamar a la función para comparar eventos específicos\n",
    "events_to_compare = [\n",
    "    'OffersScreenAppear',\n",
    "    'CartScreenAppear',\n",
    "    'PaymentScreenSuccessful'\n",
    "]\n",
    "for event in events_to_compare:\n",
    "    print(f\"\\nComparando el evento: {event}\")\n",
    "    # Check if both groups have users for this event before calling compare_events\n",
    "    n1 = ctrl_1[ctrl_1['event_name'] == event]['device_id_hash'].nunique()\n",
    "    n2 = expt_1[expt_1['event_name'] == event]['device_id_hash'].nunique()\n",
    "    if n1 == 0 or n2 == 0:\n",
    "        print(f\"Uno de los grupos no tiene usuarios para el evento '{event}'. Se omite la comparación.\")\n",
    "        continue\n",
    "    compare_events_exptl(ctrl_1, expt_1, event)"
   ]
  },
  {
   "cell_type": "markdown",
   "metadata": {},
   "source": [
    "La comparación entre el resto de etapas sigue siendo muy interesante. No parece haber diferencias significativas entre el resto de etapas y de hecho las proporciones de usarios en el resto de etapas es muy similar entre grupos, parece ser que el grupo experimental 248 mejoró sus numeros en las etapas subsecuentes a la primera "
   ]
  },
  {
   "cell_type": "markdown",
   "metadata": {},
   "source": [
    "#### 5.4.1.1 Comparación estadistica entre grupo control 2 y grupo experimental"
   ]
  },
  {
   "cell_type": "markdown",
   "metadata": {},
   "source": [
    "Comparación estadistica de la etapa 1 entre grupo control 2 VS experimental"
   ]
  },
  {
   "cell_type": "code",
   "execution_count": 57,
   "metadata": {},
   "outputs": [
    {
     "name": "stdout",
     "output_type": "stream",
     "text": [
      " Valor p de la prueba de Mann-Whitney: 0.3308\n",
      "No hay una diferencia estadísticamente significativa en la cantidad de usuarios que realizaron 'MainScreenAppear' entre los grupos 247 y 248.\n"
     ]
    }
   ],
   "source": [
    "alpha = 0.05\n",
    "u_stat_main_screen, p_value_main_screen = stats.mannwhitneyu(\n",
    "    main_screen_247['device_id_hash'].value_counts(),\n",
    "    main_screen_248['device_id_hash'].value_counts(),\n",
    "    alternative='two-sided'\n",
    ")\n",
    "print(f\" Valor p de la prueba de Mann-Whitney: {p_value_mw:.4f}\")\n",
    "# Interpretar el valor p de la prueba de Mann-Whitney U para 'MainScreenAppear'\n",
    "if p_value_main_screen < alpha:\n",
    "    print(\"Hay una diferencia estadísticamente significativa en la cantidad de usuarios que realizaron 'MainScreenAppear' entre los grupos 247 y 248.\")\n",
    "else:\n",
    "    print(\"No hay una diferencia estadísticamente significativa en la cantidad de usuarios que realizaron 'MainScreenAppear' entre los grupos 247 y 248.\")"
   ]
  },
  {
   "cell_type": "markdown",
   "metadata": {},
   "source": [
    "Gráfico de cajas (boxplot) para mostrar la distribución de eventos por usuario en cada grupo"
   ]
  },
  {
   "cell_type": "code",
   "execution_count": 70,
   "metadata": {},
   "outputs": [
    {
     "name": "stderr",
     "output_type": "stream",
     "text": [
      "C:\\Users\\chino\\AppData\\Local\\Temp\\ipykernel_27912\\1310182045.py:3: UserWarning:\n",
      "\n",
      "The palette list has more values (2) than needed (1), which may not be intended.\n",
      "\n"
     ]
    },
    {
     "data": {
      "image/png": "[encoded data removed]",
      "text/plain": [
       "<Figure size 1200x600 with 1 Axes>"
      ]
     },
     "metadata": {},
     "output_type": "display_data"
    }
   ],
   "source": [
    "#insights visuales adicionales sobre la distribución de los datos\n",
    "plt.figure(figsize=(12, 6))\n",
    "sns.boxplot(data=[main_screen_247['device_id_hash'].value_counts(), main_screen_248['device_id_hash'].value_counts()], palette=['blue', 'orange'])\n",
    "plt.title('Distribución de eventos por usuario en los grupos 247 y 248')\n",
    "plt.xlabel('Grupo')\n",
    "plt.ylabel('Eventos por usuario')\n",
    "plt.xticks([0, 1], ['Grupo 247', 'Grupo 248'])\n",
    "plt.show()"
   ]
  },
  {
   "cell_type": "code",
   "execution_count": 58,
   "metadata": {},
   "outputs": [],
   "source": [
    "# Crear una funcion para continuar encontrando difrencias estadisticas entre crtl_1 y ctrl_2 con el resto de eventos\n",
    "def compare_events_exptl_2(ctrl_2, expt_1, event_name):\n",
    "  \n",
    "    # Filtrar los registros para el evento específico\n",
    "    event_ctrl_2 = ctrl_2[ctrl_2['event_name'] == event_name]\n",
    "    event_expt_1 = expt_1[expt_1['event_name'] == event_name]\n",
    "\n",
    "    # Contar el número de usuarios únicos en cada grupo que realizaron el evento\n",
    "    users_event_ctrl_2 = event_ctrl_2['device_id_hash'].nunique()\n",
    "    users_event_expt_1 = event_expt_1['device_id_hash'].nunique()\n",
    "\n",
    "    print(f\"Cantidad de usuarios en el grupo 246 que realizaron '{event_name}': {users_event_ctrl_2}\")\n",
    "    print(f\"Cantidad de usuarios en el grupo 248 que realizaron '{event_name}': {users_event_expt_1}\")\n",
    "\n",
    "    # Calcular la proporción de usuarios que realizaron el evento en cada grupo de control\n",
    "    proportion_event_ctrl_2 = users_event_ctrl_2 / users_247 if users_247 > 0 else 0\n",
    "    proportion_event_expt_1 = users_event_expt_1 / users_248 if users_248 > 0 else 0\n",
    "\n",
    "    print(f\"Proporción de usuarios que realizaron '{event_name}' en el grupo 247: {proportion_event_ctrl_2:.2%}\")\n",
    "    print(f\"Proporción de usuarios que realizaron '{event_name}' en el grupo 248: {proportion_event_expt_1:.2%}\")\n",
    "\n",
    "    # Hacer una prueba de hipótesis para comparar el número de usuarios que realizaron el evento en los dos grupos de control\n",
    "    alpha = 0.05\n",
    "    u_stat_event, p_value_event = stats.mannwhitneyu(\n",
    "        event_ctrl_2['device_id_hash'].value_counts(),\n",
    "        event_expt_1['device_id_hash'].value_counts(),\n",
    "        alternative='two-sided'\n",
    "    )\n",
    "    \n",
    "    print(f\"Valor p de la prueba de Mann-Withney {p_value_event:.4f}\")\n",
    "    # Interpretar el valor p de la prueba de Mann-Whitney U para el evento\n",
    "    if p_value_event < alpha:\n",
    "        print(f\"Hay una diferencia estadísticamente significativa en la cantidad de usuarios que realizaron '{event_name}' entre los grupos 247 y 248.\")\n",
    "    else:\n",
    "        print(f\"No hay una diferencia estadísticamente significativa en la cantidad de usuarios que realizaron '{event_name}' entre los grupos 247 y 248.\")"
   ]
  },
  {
   "cell_type": "code",
   "execution_count": 59,
   "metadata": {},
   "outputs": [
    {
     "name": "stdout",
     "output_type": "stream",
     "text": [
      "\n",
      "Comparando el evento: OffersScreenAppear\n",
      "Cantidad de usuarios en el grupo 246 que realizaron 'OffersScreenAppear': 1520\n",
      "Cantidad de usuarios en el grupo 248 que realizaron 'OffersScreenAppear': 1531\n",
      "Proporción de usuarios que realizaron 'OffersScreenAppear' en el grupo 247: 60.49%\n",
      "Proporción de usuarios que realizaron 'OffersScreenAppear' en el grupo 248: 60.35%\n",
      "Valor p de la prueba de Mann-Withney 0.8849\n",
      "No hay una diferencia estadísticamente significativa en la cantidad de usuarios que realizaron 'OffersScreenAppear' entre los grupos 247 y 248.\n",
      "\n",
      "Comparando el evento: CartScreenAppear\n",
      "Cantidad de usuarios en el grupo 246 que realizaron 'CartScreenAppear': 1238\n",
      "Cantidad de usuarios en el grupo 248 que realizaron 'CartScreenAppear': 1230\n",
      "Proporción de usuarios que realizaron 'CartScreenAppear' en el grupo 247: 49.26%\n",
      "Proporción de usuarios que realizaron 'CartScreenAppear' en el grupo 248: 48.48%\n",
      "Valor p de la prueba de Mann-Withney 0.0137\n",
      "Hay una diferencia estadísticamente significativa en la cantidad de usuarios que realizaron 'CartScreenAppear' entre los grupos 247 y 248.\n",
      "\n",
      "Comparando el evento: PaymentScreenSuccessful\n",
      "Cantidad de usuarios en el grupo 246 que realizaron 'PaymentScreenSuccessful': 1158\n",
      "Cantidad de usuarios en el grupo 248 que realizaron 'PaymentScreenSuccessful': 1181\n",
      "Proporción de usuarios que realizaron 'PaymentScreenSuccessful' en el grupo 247: 46.08%\n",
      "Proporción de usuarios que realizaron 'PaymentScreenSuccessful' en el grupo 248: 46.55%\n",
      "Valor p de la prueba de Mann-Withney 0.1525\n",
      "No hay una diferencia estadísticamente significativa en la cantidad de usuarios que realizaron 'PaymentScreenSuccessful' entre los grupos 247 y 248.\n"
     ]
    }
   ],
   "source": [
    "#Llamar a la función para comparar eventos específicos\n",
    "events_to_compare = [\n",
    "    'OffersScreenAppear',\n",
    "    'CartScreenAppear',\n",
    "    'PaymentScreenSuccessful'\n",
    "]\n",
    "for event in events_to_compare:\n",
    "    print(f\"\\nComparando el evento: {event}\")\n",
    "    # Check if both groups have users for this event before calling compare_events\n",
    "    n1 = ctrl_2[ctrl_2['event_name'] == event]['device_id_hash'].nunique()\n",
    "    n2 = expt_1[expt_1['event_name'] == event]['device_id_hash'].nunique()\n",
    "    if n1 == 0 or n2 == 0:\n",
    "        print(f\"Uno de los grupos no tiene usuarios para el evento '{event}'. Se omite la comparación.\")\n",
    "        continue\n",
    "    compare_events_exptl_2(ctrl_2, expt_1, event)"
   ]
  },
  {
   "cell_type": "markdown",
   "metadata": {},
   "source": [
    "Los resultados son claros con los parámetros estadísticos medidos, no es posible encontrar una diferencia estadísitcamente significatica entre nínguno de los grupos control y el grupo experimental.\n",
    "\n",
    "Ahora procedere a hacer el analisis dcombinado de los grupos control, que en teoria al tener una mayor cantidad de usarios con respecto al experimental, podrian ser mas evidentes las diferencias y talvvez asi encontrar sifnificancia estadistica."
   ]
  },
  {
   "cell_type": "markdown",
   "metadata": {},
   "source": [
    "#### 5.4.1.2 Analisis combinado de los grupos control vs grupo experiemental "
   ]
  },
  {
   "cell_type": "markdown",
   "metadata": {},
   "source": [
    "Primero al igual que con el grupo experimental previamente en este kilometrico trabajo, creemos las variables necesarias del grupo control combinado"
   ]
  },
  {
   "cell_type": "code",
   "execution_count": 60,
   "metadata": {},
   "outputs": [
    {
     "name": "stdout",
     "output_type": "stream",
     "text": [
      "Número de usuarios únicos en el grupo combinado (246 y 247): 4997\n"
     ]
    }
   ],
   "source": [
    "# combinar los usarios unicos del grupo control 246 y 247\n",
    "combined_users = pd.concat([ctrl_1['device_id_hash'], ctrl_2['device_id_hash']]).unique()\n",
    "# Calcular el número de usuarios únicos en el grupo combinado\n",
    "combined_users_count = len(combined_users)\n",
    "print(f\"Número de usuarios únicos en el grupo combinado (246 y 247): {combined_users_count}\")"
   ]
  },
  {
   "cell_type": "markdown",
   "metadata": {},
   "source": [
    "Primero veamos si hay diferencia en el tamaño de los grupos entre el combinado de control y el experiemental"
   ]
  },
  {
   "cell_type": "code",
   "execution_count": 61,
   "metadata": {},
   "outputs": [
    {
     "name": "stdout",
     "output_type": "stream",
     "text": [
      "Valor p de la prueba de Mann-Whitney para el grupo combinado: 0.000000000000000000000000000000\n",
      "Hay una diferencia estadísticamente significativa entre el grupo combinado (246 y 247) y el grupo experimental 248.\n"
     ]
    }
   ],
   "source": [
    "# prueba de hipotesis para comparar los tamaños de las muestars del grupo combinado con el grupo experimental 248\n",
    "alpha = 0.05\n",
    "u_stat_combined, p_value_combined = stats.mannwhitneyu(\n",
    "    combined_users,\n",
    "    sample_B1['device_id_hash'].value_counts(),\n",
    "    alternative='two-sided'\n",
    ")\n",
    "print(f\"Valor p de la prueba de Mann-Whitney para el grupo combinado: {p_value_combined:.30f}\")\n",
    "# Interpretar el valor p de la prueba de Mann-Whitney U para el grupo combinado\n",
    "if p_value_combined < alpha:\n",
    "    print(\"Hay una diferencia estadísticamente significativa entre el grupo combinado (246 y 247) y el grupo experimental 248.\")\n",
    "else:\n",
    "    print(\"No hay una diferencia estadísticamente significativa entre el grupo combinado (246 y 247) y el grupo experimental 248.\")"
   ]
  },
  {
   "cell_type": "markdown",
   "metadata": {},
   "source": [
    "Como era de esperarse la diferencia entre el tamaño de grupos es muy grande y alcanzamos una diferencia significativa entre ambos grupos "
   ]
  },
  {
   "cell_type": "code",
   "execution_count": 62,
   "metadata": {},
   "outputs": [
    {
     "name": "stdout",
     "output_type": "stream",
     "text": [
      "Proporción de usuarios que realizaron 'MainScreenAppear' en el grupo combinado (246 y 247): 148.47%\n"
     ]
    }
   ],
   "source": [
    "# Calcular la proporción de usuarios que realizaron 'MainScreenAppear' en el grupo combinado\n",
    "main_screen_combined = logs_filtered[logs_filtered['event_name'] == 'MainScreenAppear']\n",
    "users_main_screen_combined = main_screen_combined['device_id_hash'].nunique()\n",
    "proportion_main_screen_combined = users_main_screen_combined / combined_users_count if combined_users_count > 0 else 0\n",
    "print(f\"Proporción de usuarios que realizaron 'MainScreenAppear' en el grupo combinado (246 y 247): {proportion_main_screen_combined:.2%}\")\n"
   ]
  },
  {
   "cell_type": "markdown",
   "metadata": {},
   "source": [
    "Obiamente es mayor al 100% porque en este caso estamos sumando ambas proporciones de cada grupo"
   ]
  },
  {
   "cell_type": "markdown",
   "metadata": {},
   "source": [
    "Ahora veamos si estas diferencias se extienden a las etapas del embudo empezando por la primera "
   ]
  },
  {
   "cell_type": "code",
   "execution_count": 63,
   "metadata": {},
   "outputs": [
    {
     "name": "stdout",
     "output_type": "stream",
     "text": [
      "Valor p de la prueba de Mann-Whitney para el grupo combinado y el grupo experimental 248: 0.2422\n",
      "No hay una diferencia estadísticamente significativa en la cantidad de usuarios que realizaron 'MainScreenAppear' entre el grupo combinado (246 y 247) y el grupo experimental 248.\n"
     ]
    },
    {
     "data": {
      "image/png": "[encoded data removed]",
      "text/plain": [
       "<Figure size 1200x600 with 1 Axes>"
      ]
     },
     "metadata": {},
     "output_type": "display_data"
    }
   ],
   "source": [
    "# prueba de hipotesis para comparar el grupo combinado con el grupo experimental 248\n",
    "alpha = 0.05\n",
    "u_stat_combined, p_value_combined = stats.mannwhitneyu(\n",
    "    main_screen_combined['device_id_hash'].value_counts(),\n",
    "    main_screen_248['device_id_hash'].value_counts(),\n",
    "    alternative='two-sided'\n",
    ")\n",
    "print(f\"Valor p de la prueba de Mann-Whitney para el grupo combinado y el grupo experimental 248: {p_value_combined:.4f}\")\n",
    "# Interpretar el valor p de la prueba de Mann-Whitney U para 'MainScreenAppear' entre el grupo combinado y el grupo experimental 248\n",
    "if p_value_combined < alpha:\n",
    "    print(\"Hay una diferencia estadísticamente significativa en la cantidad de usuarios que realizaron 'MainScreenAppear' entre el grupo combinado (246 y 247) y el grupo experimental 248.\")\n",
    "else:\n",
    "    print(\"No hay una diferencia estadísticamente significativa en la cantidad de usuarios que realizaron 'MainScreenAppear' entre el grupo combinado (246 y 247) y el grupo experimental 248.\")\n",
    "# Visualizar la distribución de usuarios únicos que realizaron 'MainScreenAppear' en el grupo combinado y el grupo experimental 248\n",
    "plt.figure(figsize=(12, 6))\n",
    "sns.histplot(main_screen_combined['device_id_hash'].value_counts(), bins=30, kde=True, color='blue', label='Grupo Combinado (246 y 247)', stat='density')\n",
    "sns.histplot(main_screen_248['device_id_hash'].value_counts(), bins=30, kde=True, color='orange', label='Grupo Experimental 248', stat='density')\n",
    "plt.title('Distribución de Usuarios Únicos que Realizaron \"MainScreenAppear\" en el Grupo Combinado y el Grupo Experimental 248')\n",
    "plt.xlabel('Número de Usuarios Únicos')\n",
    "plt.ylabel('Densidad')\n",
    "plt.legend()\n",
    "plt.tight_layout()\n",
    "plt.show()\n"
   ]
  },
  {
   "cell_type": "markdown",
   "metadata": {},
   "source": [
    "Sorpresivamente no hay diferencias estadisticas entre los grupos aunque el valor p es mucho menor al resto de pruebas realizadas entre cada grupo control y el experimental aun no tenemos significancia estadistica"
   ]
  },
  {
   "cell_type": "markdown",
   "metadata": {},
   "source": [
    "Ahora comparemos el resto de las etapas "
   ]
  },
  {
   "cell_type": "code",
   "execution_count": 64,
   "metadata": {},
   "outputs": [],
   "source": [
    "# crear una funcion para continuar encontrando difrencias estadisticas entre el grupo combinado y el grupo experimental 248 con el resto de eventos\n",
    "def compare_events_combined_exptl(combined_users, expt_1, event_name):\n",
    "  \n",
    "    # Filtrar los registros para el evento específico\n",
    "    event_combined = logs_filtered[logs_filtered['event_name'] == event_name]\n",
    "    event_expt_1 = expt_1[expt_1['event_name'] == event_name]\n",
    "\n",
    "    # Contar el número de usuarios únicos en cada grupo que realizaron el evento\n",
    "    users_event_combined = event_combined['device_id_hash'].nunique()\n",
    "    users_event_expt_1 = event_expt_1['device_id_hash'].nunique()\n",
    "\n",
    "    print(f\"Cantidad de usuarios en el grupo combinado (246 y 247) que realizaron '{event_name}': {users_event_combined}\")\n",
    "    print(f\"Cantidad de usuarios en el grupo experimental 248 que realizaron '{event_name}': {users_event_expt_1}\")\n",
    "\n",
    "    # Calcular la proporción de usuarios que realizaron el evento en cada grupo\n",
    "    proportion_event_combined = users_event_combined / combined_users_count if combined_users_count > 0 else 0\n",
    "    proportion_event_expt_1 = users_event_expt_1 / users_248 if users_248 > 0 else 0\n",
    "\n",
    "    print(f\"Proporción de usuarios que realizaron '{event_name}' en el grupo combinado (246 y 247): {proportion_event_combined:.2%}\")\n",
    "    print(f\"Proporción de usuarios que realizaron '{event_name}' en el grupo experimental 248: {proportion_event_expt_1:.2%}\")\n",
    "\n",
    "    # Hacer una prueba de hipótesis para comparar el número de usuarios que realizaron el evento en los dos grupos\n",
    "    alpha = 0.05\n",
    "    u_stat_event, p_value_event = stats.mannwhitneyu(\n",
    "        event_combined['device_id_hash'].value_counts(),\n",
    "        event_expt_1['device_id_hash'].value_counts(),\n",
    "        alternative='two-sided'\n",
    "    )\n",
    "    \n",
    "    print(f\"Valor p de la prueba de Mann-Withney {p_value_event:.4f}\")\n",
    "    # Interpretar el valor p de la prueba de Mann-Whitney U para el evento\n",
    "    if p_value_event < alpha:\n",
    "        print(f\"Hay una diferencia estadísticamente significativa en la cantidad de usuarios que realizaron '{event_name}' entre el grupo combinado (246 y 247) y el grupo experimental 248.\")\n",
    "    else:\n",
    "        print(f\"No hay una diferencia estadísticamente significativa en la cantidad de usuarios que realizaron '{event_name}' entre el grupo combinado (246 y 247) y el grupo experimental 248.\")\n",
    "        "
   ]
  },
  {
   "cell_type": "code",
   "execution_count": 65,
   "metadata": {},
   "outputs": [
    {
     "name": "stdout",
     "output_type": "stream",
     "text": [
      "\n",
      "Comparando el evento: OffersScreenAppear\n",
      "Cantidad de usuarios en el grupo combinado (246 y 247) que realizaron 'OffersScreenAppear': 4593\n",
      "Cantidad de usuarios en el grupo experimental 248 que realizaron 'OffersScreenAppear': 1531\n",
      "Proporción de usuarios que realizaron 'OffersScreenAppear' en el grupo combinado (246 y 247): 91.92%\n",
      "Proporción de usuarios que realizaron 'OffersScreenAppear' en el grupo experimental 248: 60.35%\n",
      "Valor p de la prueba de Mann-Withney 0.8379\n",
      "No hay una diferencia estadísticamente significativa en la cantidad de usuarios que realizaron 'OffersScreenAppear' entre el grupo combinado (246 y 247) y el grupo experimental 248.\n",
      "\n",
      "Comparando el evento: CartScreenAppear\n",
      "Cantidad de usuarios en el grupo combinado (246 y 247) que realizaron 'CartScreenAppear': 3734\n",
      "Cantidad de usuarios en el grupo experimental 248 que realizaron 'CartScreenAppear': 1230\n",
      "Proporción de usuarios que realizaron 'CartScreenAppear' en el grupo combinado (246 y 247): 74.72%\n",
      "Proporción de usuarios que realizaron 'CartScreenAppear' en el grupo experimental 248: 48.48%\n",
      "Valor p de la prueba de Mann-Withney 0.0910\n",
      "No hay una diferencia estadísticamente significativa en la cantidad de usuarios que realizaron 'CartScreenAppear' entre el grupo combinado (246 y 247) y el grupo experimental 248.\n",
      "\n",
      "Comparando el evento: PaymentScreenSuccessful\n",
      "Cantidad de usuarios en el grupo combinado (246 y 247) que realizaron 'PaymentScreenSuccessful': 3539\n",
      "Cantidad de usuarios en el grupo experimental 248 que realizaron 'PaymentScreenSuccessful': 1181\n",
      "Proporción de usuarios que realizaron 'PaymentScreenSuccessful' en el grupo combinado (246 y 247): 70.82%\n",
      "Proporción de usuarios que realizaron 'PaymentScreenSuccessful' en el grupo experimental 248: 46.55%\n",
      "Valor p de la prueba de Mann-Withney 0.4160\n",
      "No hay una diferencia estadísticamente significativa en la cantidad de usuarios que realizaron 'PaymentScreenSuccessful' entre el grupo combinado (246 y 247) y el grupo experimental 248.\n"
     ]
    }
   ],
   "source": [
    "#llamar a la función para comparar eventos específicos\n",
    "events_to_compare = [\n",
    "    'OffersScreenAppear',\n",
    "    'CartScreenAppear',\n",
    "    'PaymentScreenSuccessful'\n",
    "]\n",
    "for event in events_to_compare:\n",
    "    print(f\"\\nComparando el evento: {event}\")\n",
    "    # Check if both groups have users for this event before calling compare_events\n",
    "    n1 = logs_filtered[logs_filtered['event_name'] == event]['device_id_hash'].nunique()\n",
    "    n2 = expt_1[expt_1['event_name'] == event]['device_id_hash'].nunique()\n",
    "    if n1 == 0 or n2 == 0:\n",
    "        print(f\"Uno de los grupos no tiene usuarios para el evento '{event}'. Se omite la comparación.\")\n",
    "        continue\n",
    "    compare_events_combined_exptl(combined_users, expt_1, event)"
   ]
  },
  {
   "cell_type": "markdown",
   "metadata": {},
   "source": [
    "A pesar de que las proporciones tienen diferencias muy marcadas entre el grupo combinado y el experiemntal por la diferencia de tamaños.No tenemos significancia estadistica en entre la cantidad de usarios que llegaron a cada etapa entre los grupos, vaya resultado sorpresivo.\n",
    "\n",
    "Lo unico que queda por hacer es modificar e nivel de significancia de las pruebas para ver si solo asi es possible alcanzar significancia estadiatica\n"
   ]
  },
  {
   "cell_type": "markdown",
   "metadata": {},
   "source": [
    "# 6 Resultados con un alpha = 0.01 "
   ]
  },
  {
   "cell_type": "markdown",
   "metadata": {},
   "source": [
    "En vez de llenar celdas y celdas y celdas de texto, con la comparación entre los grupos crearé un nuevo DataFrame con los resultados de las pruebas estadisticas, ya que, el resultado es teoricamente el mismo lo único que cambiara es si existe o no significancia entre los datos"
   ]
  },
  {
   "cell_type": "code",
   "execution_count": 66,
   "metadata": {},
   "outputs": [
    {
     "name": "stdout",
     "output_type": "stream",
     "text": [
      "\n",
      "Resultados de las pruebas de hipótesis:\n"
     ]
    },
    {
     "data": {
      "text/html": [
       "<div>\n",
       "<style scoped>\n",
       "    .dataframe tbody tr th:only-of-type {\n",
       "        vertical-align: middle;\n",
       "    }\n",
       "\n",
       "    .dataframe tbody tr th {\n",
       "        vertical-align: top;\n",
       "    }\n",
       "\n",
       "    .dataframe thead th {\n",
       "        text-align: right;\n",
       "    }\n",
       "</style>\n",
       "<table border=\"1\" class=\"dataframe\">\n",
       "  <thead>\n",
       "    <tr style=\"text-align: right;\">\n",
       "      <th></th>\n",
       "      <th>etapa</th>\n",
       "      <th>a1_vs_a2_.05</th>\n",
       "      <th>a1_vs_a2_.01</th>\n",
       "      <th>a1_vs_b1_.05</th>\n",
       "      <th>a1_vs_b1_.01</th>\n",
       "      <th>a2_vs_b1_.05</th>\n",
       "      <th>a2_vs_b1_.01</th>\n",
       "      <th>combined_vs_b1_.05</th>\n",
       "      <th>combined_vs_b1_.01</th>\n",
       "    </tr>\n",
       "  </thead>\n",
       "  <tbody>\n",
       "    <tr>\n",
       "      <th>0</th>\n",
       "      <td>Group_size</td>\n",
       "      <td>0.8722</td>\n",
       "      <td>0.8722</td>\n",
       "      <td>0.4263</td>\n",
       "      <td>0.4263</td>\n",
       "      <td>0.3308</td>\n",
       "      <td>0.3308</td>\n",
       "      <td>0.0000</td>\n",
       "      <td>0.0000</td>\n",
       "    </tr>\n",
       "    <tr>\n",
       "      <th>1</th>\n",
       "      <td>MainScreenAppear</td>\n",
       "      <td>0.8722</td>\n",
       "      <td>0.8722</td>\n",
       "      <td>0.3308</td>\n",
       "      <td>0.3308</td>\n",
       "      <td>0.3308</td>\n",
       "      <td>0.3308</td>\n",
       "      <td>0.2422</td>\n",
       "      <td>0.2422</td>\n",
       "    </tr>\n",
       "    <tr>\n",
       "      <th>2</th>\n",
       "      <td>OffersScreenAppear</td>\n",
       "      <td>0.8436</td>\n",
       "      <td>0.8436</td>\n",
       "      <td>0.7226</td>\n",
       "      <td>0.7226</td>\n",
       "      <td>0.8849</td>\n",
       "      <td>0.8849</td>\n",
       "      <td>0.8379</td>\n",
       "      <td>0.8379</td>\n",
       "    </tr>\n",
       "    <tr>\n",
       "      <th>3</th>\n",
       "      <td>CartScreenAppear</td>\n",
       "      <td>0.4601</td>\n",
       "      <td>0.4601</td>\n",
       "      <td>0.0949</td>\n",
       "      <td>0.0949</td>\n",
       "      <td>0.0137</td>\n",
       "      <td>0.0137</td>\n",
       "      <td>0.0910</td>\n",
       "      <td>0.0910</td>\n",
       "    </tr>\n",
       "    <tr>\n",
       "      <th>4</th>\n",
       "      <td>PaymentScreenSuccessful</td>\n",
       "      <td>0.4063</td>\n",
       "      <td>0.4063</td>\n",
       "      <td>0.5662</td>\n",
       "      <td>0.5662</td>\n",
       "      <td>0.1525</td>\n",
       "      <td>0.1525</td>\n",
       "      <td>0.4160</td>\n",
       "      <td>0.4160</td>\n",
       "    </tr>\n",
       "  </tbody>\n",
       "</table>\n",
       "</div>"
      ],
      "text/plain": [
       "                     etapa  a1_vs_a2_.05  a1_vs_a2_.01  a1_vs_b1_.05  \\\n",
       "0               Group_size        0.8722        0.8722        0.4263   \n",
       "1         MainScreenAppear        0.8722        0.8722        0.3308   \n",
       "2       OffersScreenAppear        0.8436        0.8436        0.7226   \n",
       "3         CartScreenAppear        0.4601        0.4601        0.0949   \n",
       "4  PaymentScreenSuccessful        0.4063        0.4063        0.5662   \n",
       "\n",
       "   a1_vs_b1_.01  a2_vs_b1_.05  a2_vs_b1_.01  combined_vs_b1_.05  \\\n",
       "0        0.4263        0.3308        0.3308              0.0000   \n",
       "1        0.3308        0.3308        0.3308              0.2422   \n",
       "2        0.7226        0.8849        0.8849              0.8379   \n",
       "3        0.0949        0.0137        0.0137              0.0910   \n",
       "4        0.5662        0.1525        0.1525              0.4160   \n",
       "\n",
       "   combined_vs_b1_.01  \n",
       "0              0.0000  \n",
       "1              0.2422  \n",
       "2              0.8379  \n",
       "3              0.0910  \n",
       "4              0.4160  "
      ]
     },
     "metadata": {},
     "output_type": "display_data"
    }
   ],
   "source": [
    "# Nuwvo DataFrame\n",
    "df= pd.DataFrame(columns=['etapa','a1_vs_a2_.05', 'a1_vs_a2_.01', 'a1_vs_b1_.05', 'a1_vs_b1_.01',\n",
    "                        'a2_vs_b1_.05', 'a2_vs_b1_.01', 'combined_vs_b1_.05', 'combined_vs_b1_.01'])\n",
    "df['etapa']= ['Group_size','MainScreenAppear', 'OffersScreenAppear', 'CartScreenAppear', 'PaymentScreenSuccessful']\n",
    "df['a1_vs_a2_.05'] = 0.8722, 0.8722, 0.8436, 0.4601, 0.4063\n",
    "df['a1_vs_a2_.01'] = 0.8722, 0.8722, 0.8436, 0.4601, 0.4063\n",
    "df['a1_vs_b1_.05'] = 0.4263, 0.3308, 0.7226, 0.0949, 0.5662\n",
    "df['a1_vs_b1_.01'] = 0.4263, 0.3308, 0.7226, 0.0949, 0.5662\n",
    "df['a2_vs_b1_.05'] = 0.3308, 0.3308, 0.8849, 0.0137, 0.1525\n",
    "df['a2_vs_b1_.01'] = 0.3308, 0.3308, 0.8849, 0.0137, 0.1525\n",
    "df['combined_vs_b1_.05'] = 0.0000, 0.2422, 0.8379, 0.0910, 0.4160\n",
    "df['combined_vs_b1_.01'] = 0.0000, 0.2422, 0.8379, 0.0910, 0.4160\n",
    "\n",
    "# Mostrar el DataFrame con los resultados de las pruebas de hipótesis\n",
    "print(\"\\nResultados de las pruebas de hipótesis:\")\n",
    "\n",
    "display (df)"
   ]
  },
  {
   "cell_type": "markdown",
   "metadata": {},
   "source": [
    "\n",
    "Cabe resaltar que incluso con una significancia de **alpha = 0.01** solo se alcanzo una diferencia estadsitica significativa entre los usarios del grupo control 2  y el experimental que llegaron a la pagina CartScreenAppear con un valor de p: **0.0137**\t\n",
    "No menciono la diferencia estadisitica que existe entre el tamaño de los grupos control combinados y el grupo experimenta, ya que es mas que obvio, la diferencia de tamaños era abismal en tamaño crudo de usarios.\n",
    "Para hacer la comparacion entre los valores p de los grupos mas visual hagamos una grafica para que se puedan comparar los grupos y valores deseados"
   ]
  },
  {
   "cell_type": "code",
   "execution_count": 67,
   "metadata": {},
   "outputs": [
    {
     "data": {
      "application/vnd.plotly.v1+json": {
       "config": {
        "plotlyServerURL": "https://plot.ly"
       },
       "data": [
        {
         "alignmentgroup": "True",
         "hovertemplate": "Prueba=a1_vs_a2_.05<br>Etapa del embudo=%{x}<br>Valor P=%{y}<extra></extra>",
         "legendgroup": "a1_vs_a2_.05",
         "marker": {
          "color": "#636efa",
          "pattern": {
           "shape": ""
          }
         },
         "name": "a1_vs_a2_.05",
         "offsetgroup": "a1_vs_a2_.05",
         "orientation": "v",
         "showlegend": true,
         "textposition": "auto",
         "type": "bar",
         "x": [
          "Group_size",
          "MainScreenAppear",
          "OffersScreenAppear",
          "CartScreenAppear",
          "PaymentScreenSuccessful"
         ],
         "xaxis": "x",
         "y": {
          "bdata": "RUdy+Q/p6z9FR3L5D+nrP636XG3F/uo/Ne84RUdy3T/iWBe30QDaPw==",
          "dtype": "f8"
         },
         "yaxis": "y"
        },
        {
         "alignmentgroup": "True",
         "hovertemplate": "Prueba=a1_vs_a2_.01<br>Etapa del embudo=%{x}<br>Valor P=%{y}<extra></extra>",
         "legendgroup": "a1_vs_a2_.01",
         "marker": {
          "color": "#EF553B",
          "pattern": {
           "shape": ""
          }
         },
         "name": "a1_vs_a2_.01",
         "offsetgroup": "a1_vs_a2_.01",
         "orientation": "v",
         "showlegend": true,
         "textposition": "auto",
         "type": "bar",
         "x": [
          "Group_size",
          "MainScreenAppear",
          "OffersScreenAppear",
          "CartScreenAppear",
          "PaymentScreenSuccessful"
         ],
         "xaxis": "x",
         "y": {
          "bdata": "RUdy+Q/p6z9FR3L5D+nrP636XG3F/uo/Ne84RUdy3T/iWBe30QDaPw==",
          "dtype": "f8"
         },
         "yaxis": "y"
        },
        {
         "alignmentgroup": "True",
         "hovertemplate": "Prueba=a1_vs_b1_.05<br>Etapa del embudo=%{x}<br>Valor P=%{y}<extra></extra>",
         "legendgroup": "a1_vs_b1_.05",
         "marker": {
          "color": "#00cc96",
          "pattern": {
           "shape": ""
          }
         },
         "name": "a1_vs_b1_.05",
         "offsetgroup": "a1_vs_b1_.05",
         "orientation": "v",
         "showlegend": true,
         "textposition": "auto",
         "type": "bar",
         "x": [
          "Group_size",
          "MainScreenAppear",
          "OffersScreenAppear",
          "CartScreenAppear",
          "PaymentScreenSuccessful"
         ],
         "xaxis": "x",
         "y": {
          "bdata": "KjqSy39I2z9AE2HD0yvVPwHeAgmKH+c/QfFjzF1LuD+u2F92Tx7iPw==",
          "dtype": "f8"
         },
         "yaxis": "y"
        },
        {
         "alignmentgroup": "True",
         "hovertemplate": "Prueba=a1_vs_b1_.01<br>Etapa del embudo=%{x}<br>Valor P=%{y}<extra></extra>",
         "legendgroup": "a1_vs_b1_.01",
         "marker": {
          "color": "#ab63fa",
          "pattern": {
           "shape": ""
          }
         },
         "name": "a1_vs_b1_.01",
         "offsetgroup": "a1_vs_b1_.01",
         "orientation": "v",
         "showlegend": true,
         "textposition": "auto",
         "type": "bar",
         "x": [
          "Group_size",
          "MainScreenAppear",
          "OffersScreenAppear",
          "CartScreenAppear",
          "PaymentScreenSuccessful"
         ],
         "xaxis": "x",
         "y": {
          "bdata": "KjqSy39I2z9AE2HD0yvVPwHeAgmKH+c/QfFjzF1LuD+u2F92Tx7iPw==",
          "dtype": "f8"
         },
         "yaxis": "y"
        },
        {
         "alignmentgroup": "True",
         "hovertemplate": "Prueba=a2_vs_b1_.05<br>Etapa del embudo=%{x}<br>Valor P=%{y}<extra></extra>",
         "legendgroup": "a2_vs_b1_.05",
         "marker": {
          "color": "#FFA15A",
          "pattern": {
           "shape": ""
          }
         },
         "name": "a2_vs_b1_.05",
         "offsetgroup": "a2_vs_b1_.05",
         "orientation": "v",
         "showlegend": true,
         "textposition": "auto",
         "type": "bar",
         "x": [
          "Group_size",
          "MainScreenAppear",
          "OffersScreenAppear",
          "CartScreenAppear",
          "PaymentScreenSuccessful"
         ],
         "xaxis": "x",
         "y": {
          "bdata": "QBNhw9Mr1T9AE2HD0yvVP3BfB84ZUew/5j+k374OjD+F61G4HoXDPw==",
          "dtype": "f8"
         },
         "yaxis": "y"
        },
        {
         "alignmentgroup": "True",
         "hovertemplate": "Prueba=a2_vs_b1_.01<br>Etapa del embudo=%{x}<br>Valor P=%{y}<extra></extra>",
         "legendgroup": "a2_vs_b1_.01",
         "marker": {
          "color": "#19d3f3",
          "pattern": {
           "shape": ""
          }
         },
         "name": "a2_vs_b1_.01",
         "offsetgroup": "a2_vs_b1_.01",
         "orientation": "v",
         "showlegend": true,
         "textposition": "auto",
         "type": "bar",
         "x": [
          "Group_size",
          "MainScreenAppear",
          "OffersScreenAppear",
          "CartScreenAppear",
          "PaymentScreenSuccessful"
         ],
         "xaxis": "x",
         "y": {
          "bdata": "QBNhw9Mr1T9AE2HD0yvVP3BfB84ZUew/5j+k374OjD+F61G4HoXDPw==",
          "dtype": "f8"
         },
         "yaxis": "y"
        },
        {
         "alignmentgroup": "True",
         "hovertemplate": "Prueba=combined_vs_b1_.05<br>Etapa del embudo=%{x}<br>Valor P=%{y}<extra></extra>",
         "legendgroup": "combined_vs_b1_.05",
         "marker": {
          "color": "#FF6692",
          "pattern": {
           "shape": ""
          }
         },
         "name": "combined_vs_b1_.05",
         "offsetgroup": "combined_vs_b1_.05",
         "orientation": "v",
         "showlegend": true,
         "textposition": "auto",
         "type": "bar",
         "x": [
          "Group_size",
          "MainScreenAppear",
          "OffersScreenAppear",
          "CartScreenAppear",
          "PaymentScreenSuccessful"
         ],
         "xaxis": "x",
         "y": {
          "bdata": "AAAAAAAAAABxrIvbaADPP1UwKqkT0Oo/sp3vp8ZLtz85tMh2vp/aPw==",
          "dtype": "f8"
         },
         "yaxis": "y"
        },
        {
         "alignmentgroup": "True",
         "hovertemplate": "Prueba=combined_vs_b1_.01<br>Etapa del embudo=%{x}<br>Valor P=%{y}<extra></extra>",
         "legendgroup": "combined_vs_b1_.01",
         "marker": {
          "color": "#B6E880",
          "pattern": {
           "shape": ""
          }
         },
         "name": "combined_vs_b1_.01",
         "offsetgroup": "combined_vs_b1_.01",
         "orientation": "v",
         "showlegend": true,
         "textposition": "auto",
         "type": "bar",
         "x": [
          "Group_size",
          "MainScreenAppear",
          "OffersScreenAppear",
          "CartScreenAppear",
          "PaymentScreenSuccessful"
         ],
         "xaxis": "x",
         "y": {
          "bdata": "AAAAAAAAAABxrIvbaADPP1UwKqkT0Oo/sp3vp8ZLtz85tMh2vp/aPw==",
          "dtype": "f8"
         },
         "yaxis": "y"
        }
       ],
       "layout": {
        "barmode": "group",
        "hovermode": "x unified",
        "legend": {
         "title": {
          "text": "Prueba de Hipótesis"
         },
         "tracegroupgap": 0
        },
        "template": {
         "data": {
          "bar": [
           {
            "error_x": {
             "color": "#2a3f5f"
            },
            "error_y": {
             "color": "#2a3f5f"
            },
            "marker": {
             "line": {
              "color": "#E5ECF6",
              "width": 0.5
             },
             "pattern": {
              "fillmode": "overlay",
              "size": 10,
              "solidity": 0.2
             }
            },
            "type": "bar"
           }
          ],
          "barpolar": [
           {
            "marker": {
             "line": {
              "color": "#E5ECF6",
              "width": 0.5
             },
             "pattern": {
              "fillmode": "overlay",
              "size": 10,
              "solidity": 0.2
             }
            },
            "type": "barpolar"
           }
          ],
          "carpet": [
           {
            "aaxis": {
             "endlinecolor": "#2a3f5f",
             "gridcolor": "white",
             "linecolor": "white",
             "minorgridcolor": "white",
             "startlinecolor": "#2a3f5f"
            },
            "baxis": {
             "endlinecolor": "#2a3f5f",
             "gridcolor": "white",
             "linecolor": "white",
             "minorgridcolor": "white",
             "startlinecolor": "#2a3f5f"
            },
            "type": "carpet"
           }
          ],
          "choropleth": [
           {
            "colorbar": {
             "outlinewidth": 0,
             "ticks": ""
            },
            "type": "choropleth"
           }
          ],
          "contour": [
           {
            "colorbar": {
             "outlinewidth": 0,
             "ticks": ""
            },
            "colorscale": [
             [
              0,
              "#0d0887"
             ],
             [
              0.1111111111111111,
              "#46039f"
             ],
             [
              0.2222222222222222,
              "#7201a8"
             ],
             [
              0.3333333333333333,
              "#9c179e"
             ],
             [
              0.4444444444444444,
              "#bd3786"
             ],
             [
              0.5555555555555556,
              "#d8576b"
             ],
             [
              0.6666666666666666,
              "#ed7953"
             ],
             [
              0.7777777777777778,
              "#fb9f3a"
             ],
             [
              0.8888888888888888,
              "#fdca26"
             ],
             [
              1,
              "#f0f921"
             ]
            ],
            "type": "contour"
           }
          ],
          "contourcarpet": [
           {
            "colorbar": {
             "outlinewidth": 0,
             "ticks": ""
            },
            "type": "contourcarpet"
           }
          ],
          "heatmap": [
           {
            "colorbar": {
             "outlinewidth": 0,
             "ticks": ""
            },
            "colorscale": [
             [
              0,
              "#0d0887"
             ],
             [
              0.1111111111111111,
              "#46039f"
             ],
             [
              0.2222222222222222,
              "#7201a8"
             ],
             [
              0.3333333333333333,
              "#9c179e"
             ],
             [
              0.4444444444444444,
              "#bd3786"
             ],
             [
              0.5555555555555556,
              "#d8576b"
             ],
             [
              0.6666666666666666,
              "#ed7953"
             ],
             [
              0.7777777777777778,
              "#fb9f3a"
             ],
             [
              0.8888888888888888,
              "#fdca26"
             ],
             [
              1,
              "#f0f921"
             ]
            ],
            "type": "heatmap"
           }
          ],
          "histogram": [
           {
            "marker": {
             "pattern": {
              "fillmode": "overlay",
              "size": 10,
              "solidity": 0.2
             }
            },
            "type": "histogram"
           }
          ],
          "histogram2d": [
           {
            "colorbar": {
             "outlinewidth": 0,
             "ticks": ""
            },
            "colorscale": [
             [
              0,
              "#0d0887"
             ],
             [
              0.1111111111111111,
              "#46039f"
             ],
             [
              0.2222222222222222,
              "#7201a8"
             ],
             [
              0.3333333333333333,
              "#9c179e"
             ],
             [
              0.4444444444444444,
              "#bd3786"
             ],
             [
              0.5555555555555556,
              "#d8576b"
             ],
             [
              0.6666666666666666,
              "#ed7953"
             ],
             [
              0.7777777777777778,
              "#fb9f3a"
             ],
             [
              0.8888888888888888,
              "#fdca26"
             ],
             [
              1,
              "#f0f921"
             ]
            ],
            "type": "histogram2d"
           }
          ],
          "histogram2dcontour": [
           {
            "colorbar": {
             "outlinewidth": 0,
             "ticks": ""
            },
            "colorscale": [
             [
              0,
              "#0d0887"
             ],
             [
              0.1111111111111111,
              "#46039f"
             ],
             [
              0.2222222222222222,
              "#7201a8"
             ],
             [
              0.3333333333333333,
              "#9c179e"
             ],
             [
              0.4444444444444444,
              "#bd3786"
             ],
             [
              0.5555555555555556,
              "#d8576b"
             ],
             [
              0.6666666666666666,
              "#ed7953"
             ],
             [
              0.7777777777777778,
              "#fb9f3a"
             ],
             [
              0.8888888888888888,
              "#fdca26"
             ],
             [
              1,
              "#f0f921"
             ]
            ],
            "type": "histogram2dcontour"
           }
          ],
          "mesh3d": [
           {
            "colorbar": {
             "outlinewidth": 0,
             "ticks": ""
            },
            "type": "mesh3d"
           }
          ],
          "parcoords": [
           {
            "line": {
             "colorbar": {
              "outlinewidth": 0,
              "ticks": ""
             }
            },
            "type": "parcoords"
           }
          ],
          "pie": [
           {
            "automargin": true,
            "type": "pie"
           }
          ],
          "scatter": [
           {
            "fillpattern": {
             "fillmode": "overlay",
             "size": 10,
             "solidity": 0.2
            },
            "type": "scatter"
           }
          ],
          "scatter3d": [
           {
            "line": {
             "colorbar": {
              "outlinewidth": 0,
              "ticks": ""
             }
            },
            "marker": {
             "colorbar": {
              "outlinewidth": 0,
              "ticks": ""
             }
            },
            "type": "scatter3d"
           }
          ],
          "scattercarpet": [
           {
            "marker": {
             "colorbar": {
              "outlinewidth": 0,
              "ticks": ""
             }
            },
            "type": "scattercarpet"
           }
          ],
          "scattergeo": [
           {
            "marker": {
             "colorbar": {
              "outlinewidth": 0,
              "ticks": ""
             }
            },
            "type": "scattergeo"
           }
          ],
          "scattergl": [
           {
            "marker": {
             "colorbar": {
              "outlinewidth": 0,
              "ticks": ""
             }
            },
            "type": "scattergl"
           }
          ],
          "scattermap": [
           {
            "marker": {
             "colorbar": {
              "outlinewidth": 0,
              "ticks": ""
             }
            },
            "type": "scattermap"
           }
          ],
          "scattermapbox": [
           {
            "marker": {
             "colorbar": {
              "outlinewidth": 0,
              "ticks": ""
             }
            },
            "type": "scattermapbox"
           }
          ],
          "scatterpolar": [
           {
            "marker": {
             "colorbar": {
              "outlinewidth": 0,
              "ticks": ""
             }
            },
            "type": "scatterpolar"
           }
          ],
          "scatterpolargl": [
           {
            "marker": {
             "colorbar": {
              "outlinewidth": 0,
              "ticks": ""
             }
            },
            "type": "scatterpolargl"
           }
          ],
          "scatterternary": [
           {
            "marker": {
             "colorbar": {
              "outlinewidth": 0,
              "ticks": ""
             }
            },
            "type": "scatterternary"
           }
          ],
          "surface": [
           {
            "colorbar": {
             "outlinewidth": 0,
             "ticks": ""
            },
            "colorscale": [
             [
              0,
              "#0d0887"
             ],
             [
              0.1111111111111111,
              "#46039f"
             ],
             [
              0.2222222222222222,
              "#7201a8"
             ],
             [
              0.3333333333333333,
              "#9c179e"
             ],
             [
              0.4444444444444444,
              "#bd3786"
             ],
             [
              0.5555555555555556,
              "#d8576b"
             ],
             [
              0.6666666666666666,
              "#ed7953"
             ],
             [
              0.7777777777777778,
              "#fb9f3a"
             ],
             [
              0.8888888888888888,
              "#fdca26"
             ],
             [
              1,
              "#f0f921"
             ]
            ],
            "type": "surface"
           }
          ],
          "table": [
           {
            "cells": {
             "fill": {
              "color": "#EBF0F8"
             },
             "line": {
              "color": "white"
             }
            },
            "header": {
             "fill": {
              "color": "#C8D4E3"
             },
             "line": {
              "color": "white"
             }
            },
            "type": "table"
           }
          ]
         },
         "layout": {
          "annotationdefaults": {
           "arrowcolor": "#2a3f5f",
           "arrowhead": 0,
           "arrowwidth": 1
          },
          "autotypenumbers": "strict",
          "coloraxis": {
           "colorbar": {
            "outlinewidth": 0,
            "ticks": ""
           }
          },
          "colorscale": {
           "diverging": [
            [
             0,
             "#8e0152"
            ],
            [
             0.1,
             "#c51b7d"
            ],
            [
             0.2,
             "#de77ae"
            ],
            [
             0.3,
             "#f1b6da"
            ],
            [
             0.4,
             "#fde0ef"
            ],
            [
             0.5,
             "#f7f7f7"
            ],
            [
             0.6,
             "#e6f5d0"
            ],
            [
             0.7,
             "#b8e186"
            ],
            [
             0.8,
             "#7fbc41"
            ],
            [
             0.9,
             "#4d9221"
            ],
            [
             1,
             "#276419"
            ]
           ],
           "sequential": [
            [
             0,
             "#0d0887"
            ],
            [
             0.1111111111111111,
             "#46039f"
            ],
            [
             0.2222222222222222,
             "#7201a8"
            ],
            [
             0.3333333333333333,
             "#9c179e"
            ],
            [
             0.4444444444444444,
             "#bd3786"
            ],
            [
             0.5555555555555556,
             "#d8576b"
            ],
            [
             0.6666666666666666,
             "#ed7953"
            ],
            [
             0.7777777777777778,
             "#fb9f3a"
            ],
            [
             0.8888888888888888,
             "#fdca26"
            ],
            [
             1,
             "#f0f921"
            ]
           ],
           "sequentialminus": [
            [
             0,
             "#0d0887"
            ],
            [
             0.1111111111111111,
             "#46039f"
            ],
            [
             0.2222222222222222,
             "#7201a8"
            ],
            [
             0.3333333333333333,
             "#9c179e"
            ],
            [
             0.4444444444444444,
             "#bd3786"
            ],
            [
             0.5555555555555556,
             "#d8576b"
            ],
            [
             0.6666666666666666,
             "#ed7953"
            ],
            [
             0.7777777777777778,
             "#fb9f3a"
            ],
            [
             0.8888888888888888,
             "#fdca26"
            ],
            [
             1,
             "#f0f921"
            ]
           ]
          },
          "colorway": [
           "#636efa",
           "#EF553B",
           "#00cc96",
           "#ab63fa",
           "#FFA15A",
           "#19d3f3",
           "#FF6692",
           "#B6E880",
           "#FF97FF",
           "#FECB52"
          ],
          "font": {
           "color": "#2a3f5f"
          },
          "geo": {
           "bgcolor": "white",
           "lakecolor": "white",
           "landcolor": "#E5ECF6",
           "showlakes": true,
           "showland": true,
           "subunitcolor": "white"
          },
          "hoverlabel": {
           "align": "left"
          },
          "hovermode": "closest",
          "mapbox": {
           "style": "light"
          },
          "paper_bgcolor": "white",
          "plot_bgcolor": "#E5ECF6",
          "polar": {
           "angularaxis": {
            "gridcolor": "white",
            "linecolor": "white",
            "ticks": ""
           },
           "bgcolor": "#E5ECF6",
           "radialaxis": {
            "gridcolor": "white",
            "linecolor": "white",
            "ticks": ""
           }
          },
          "scene": {
           "xaxis": {
            "backgroundcolor": "#E5ECF6",
            "gridcolor": "white",
            "gridwidth": 2,
            "linecolor": "white",
            "showbackground": true,
            "ticks": "",
            "zerolinecolor": "white"
           },
           "yaxis": {
            "backgroundcolor": "#E5ECF6",
            "gridcolor": "white",
            "gridwidth": 2,
            "linecolor": "white",
            "showbackground": true,
            "ticks": "",
            "zerolinecolor": "white"
           },
           "zaxis": {
            "backgroundcolor": "#E5ECF6",
            "gridcolor": "white",
            "gridwidth": 2,
            "linecolor": "white",
            "showbackground": true,
            "ticks": "",
            "zerolinecolor": "white"
           }
          },
          "shapedefaults": {
           "line": {
            "color": "#2a3f5f"
           }
          },
          "ternary": {
           "aaxis": {
            "gridcolor": "white",
            "linecolor": "white",
            "ticks": ""
           },
           "baxis": {
            "gridcolor": "white",
            "linecolor": "white",
            "ticks": ""
           },
           "bgcolor": "#E5ECF6",
           "caxis": {
            "gridcolor": "white",
            "linecolor": "white",
            "ticks": ""
           }
          },
          "title": {
           "x": 0.05
          },
          "xaxis": {
           "automargin": true,
           "gridcolor": "white",
           "linecolor": "white",
           "ticks": "",
           "title": {
            "standoff": 15
           },
           "zerolinecolor": "white",
           "zerolinewidth": 2
          },
          "yaxis": {
           "automargin": true,
           "gridcolor": "white",
           "linecolor": "white",
           "ticks": "",
           "title": {
            "standoff": 15
           },
           "zerolinecolor": "white",
           "zerolinewidth": 2
          }
         }
        },
        "title": {
         "text": "Resultados de las pruebas de hipótesis por Etapa"
        },
        "xaxis": {
         "anchor": "y",
         "domain": [
          0,
          1
         ],
         "title": {
          "text": "Etapa del embudo"
         }
        },
        "yaxis": {
         "anchor": "x",
         "domain": [
          0,
          1
         ],
         "title": {
          "text": "Valor P"
         }
        }
       }
      }
     },
     "metadata": {},
     "output_type": "display_data"
    }
   ],
   "source": [
    "# Derretir el DataFrame para que sea compatible con Plotly\n",
    "df_melted = df.melt('etapa', var_name='Prueba', value_name='Valor P')\n",
    "\n",
    "# Crear el gráfico de barras interactivo con Plotly Express\n",
    "fig = px.bar(df_melted, x='etapa', y='Valor P', color='Prueba', barmode='group',\n",
    "             title='Resultados de las pruebas de hipótesis por Etapa',\n",
    "             labels={'etapa': 'Etapa del embudo', 'Valor P': 'Valor P'})\n",
    "\n",
    "# Personalizar el diseño del gráfico\n",
    "fig.update_layout(\n",
    "    xaxis_title='Etapa del embudo',\n",
    "    yaxis_title='Valor P',\n",
    "    legend_title='Prueba de Hipótesis',\n",
    "    hovermode='x unified'\n",
    ")\n",
    "\n",
    "# Mostrar el gráfico\n",
    "fig.show()"
   ]
  },
  {
   "cell_type": "markdown",
   "metadata": {},
   "source": [
    "# Conclusion\n",
    "En conclusión el cambio de fuente no parece afectar para nada las ventas del sitio, puede ser que mientras la fuente sea legible, esta no ntiene impacto alguno en las compras, o que, la gente este tan habituada al sitio que no importe el cambio de fuente. Esto ultimo puede ser muy cierto y puede ser la explicacioó también del porque la etapa de tutorial es tan baja con respecto al resto de etapas"
   ]
  },
  {
   "cell_type": "code",
   "execution_count": null,
   "metadata": {},
   "outputs": [],
   "source": []
  }
 ],
 "metadata": {
  "kernelspec": {
   "display_name": "base",
   "language": "python",
   "name": "python3"
  },
  "language_info": {
   "codemirror_mode": {
    "name": "ipython",
    "version": 3
   },
   "file_extension": ".py",
   "mimetype": "text/x-python",
   "name": "python",
   "nbconvert_exporter": "python",
   "pygments_lexer": "ipython3",
   "version": "3.12.7"
  }
 },
 "nbformat": 4,
 "nbformat_minor": 4
}
